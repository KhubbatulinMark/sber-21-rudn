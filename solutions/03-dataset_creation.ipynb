{
 "cells": [
  {
   "cell_type": "code",
   "execution_count": 1,
   "id": "2945028d-42ef-4282-921d-4efa435ce306",
   "metadata": {},
   "outputs": [],
   "source": [
    "import pandas as pd\n",
    "import numpy as np\n",
    "import matplotlib.pyplot as plt\n",
    "import re"
   ]
  },
  {
   "cell_type": "markdown",
   "id": "7471696f-341f-47e9-b7cc-fe29c7740e42",
   "metadata": {},
   "source": [
    "# Ввод датасетов"
   ]
  },
  {
   "cell_type": "code",
   "execution_count": 2,
   "id": "ab5ef3e5-7e9f-4ddd-a48b-631ac4d00b95",
   "metadata": {},
   "outputs": [],
   "source": [
    "df_2018 = pd.read_csv('archive/kaggle-survey-2018/multipleChoiceResponses.csv',\n",
    "                      encoding='latin1', low_memory=False)"
   ]
  },
  {
   "cell_type": "code",
   "execution_count": 3,
   "id": "a6d345ee-02e0-49e3-b5ab-ad64e3c1e891",
   "metadata": {},
   "outputs": [],
   "source": [
    "df_2019 = pd.read_csv('archive/kaggle-survey-2019/multiple_choice_responses.csv',\n",
    "                      encoding='latin1', low_memory=False)"
   ]
  },
  {
   "cell_type": "code",
   "execution_count": 4,
   "id": "2d44360e-38bb-4762-9f7b-5b4ea7c14500",
   "metadata": {},
   "outputs": [],
   "source": [
    "df_2020 = pd.read_csv('archive/kaggle-survey-2020/kaggle_survey_2020_responses.csv',\n",
    "                      encoding='latin1', low_memory=False)"
   ]
  },
  {
   "cell_type": "code",
   "execution_count": 5,
   "id": "5cb971f6-3c2a-4074-94e9-7412d33cff52",
   "metadata": {},
   "outputs": [],
   "source": [
    "df_2021 = pd.read_csv('archive/kaggle-survey-2021/kaggle_survey_2021_responses.csv',\n",
    "                      encoding='latin1', low_memory=False)"
   ]
  },
  {
   "cell_type": "code",
   "execution_count": 6,
   "id": "5dcfd69f-f332-4dbc-86bd-441c8cc5a318",
   "metadata": {},
   "outputs": [],
   "source": [
    "df_2022 = pd.read_csv('archive/kaggle-survey-2022/kaggle_survey_2022_responses.csv',\n",
    "                      encoding='latin1', low_memory=False)"
   ]
  },
  {
   "cell_type": "code",
   "execution_count": 7,
   "id": "4b4869c4-3742-451a-8291-e0dc2f6c11ff",
   "metadata": {},
   "outputs": [],
   "source": [
    "df_2025 = pd.read_csv('archive/kaggle-survey-2025/multipleChoiceResponses.csv',\n",
    "                      encoding='latin1', low_memory=False)"
   ]
  },
  {
   "cell_type": "markdown",
   "id": "c045a5ce-09a6-4cf9-8ec4-ea49cee8e450",
   "metadata": {},
   "source": [
    "# Column mapping"
   ]
  },
  {
   "cell_type": "code",
   "execution_count": 8,
   "id": "92621111-dc66-4079-82fd-4467759e5c36",
   "metadata": {},
   "outputs": [],
   "source": [
    "datasets = {\n",
    "        '2018': df_2018, \n",
    "        '2019': df_2019,\n",
    "        '2020': df_2020,\n",
    "        '2021': df_2021,\n",
    "        '2022': df_2022,\n",
    "        '2025': df_2025\n",
    "    }"
   ]
  },
  {
   "cell_type": "code",
   "execution_count": 9,
   "id": "016561ec-de9a-4a09-98f8-0725fd4dd024",
   "metadata": {},
   "outputs": [],
   "source": [
    "def normalize_df(df):\n",
    "    name2questions = df.iloc[0].to_list()\n",
    "    df.columns = name2questions\n",
    "    df.drop(0, inplace=True)\n",
    "\n",
    "    return df"
   ]
  },
  {
   "cell_type": "code",
   "execution_count": 10,
   "id": "b34d7c5e-2eec-44a5-9499-b21b1b5533b5",
   "metadata": {},
   "outputs": [],
   "source": [
    "for key, df in datasets.items():\n",
    "    df = normalize_df(df)"
   ]
  },
  {
   "cell_type": "code",
   "execution_count": 11,
   "id": "99f2c0d5-46ff-4c67-86bd-bd4dd30c27d1",
   "metadata": {},
   "outputs": [],
   "source": [
    "def auto_create_mapping(columns_list):\n",
    "    mapping = {}\n",
    "    \n",
    "    for col in columns_list:\n",
    "        simplified = simplify_column_name(col)\n",
    "        mapping[col] = simplified\n",
    "    \n",
    "    return mapping\n",
    "\n",
    "def simplify_column_name(column_name):\n",
    "    name = column_name.lower()\n",
    "    \n",
    "    patterns_to_remove = [\n",
    "        r'which of the following',\n",
    "        r'select all that apply',\n",
    "        r'selected choice',\n",
    "        r'other - text',\n",
    "        r'approximate \\$usd',\n",
    "        r'include text response',\n",
    "        r'in the last 5 years',\n",
    "        r'at work or school',\n",
    "        r'what is your',\n",
    "        r'how many',\n",
    "        r'does your',\n",
    "        r'select any',\n",
    "        r'approximate what percent',\n",
    "        r'how long',\n",
    "        r'for how many',\n",
    "        r'do you consider',\n",
    "        r'what specific',\n",
    "        r'what programming',\n",
    "        r'what machine learning',\n",
    "        r'what data visualization',\n",
    "        r'of the choices that you selected in the previous question',\n",
    "        r'which specific',\n",
    "        r'what is the type',\n",
    "        r'where do you',\n",
    "        r'during a typical',\n",
    "        r'what percentage',\n",
    "        r'on which online platforms',\n",
    "        r'who/what are your',\n",
    "        r'how do you perceive',\n",
    "        r'which better demonstrates',\n",
    "        r'what metrics',\n",
    "        r'what do you find most difficult',\n",
    "        r'in what circumstances',\n",
    "        r'what methods',\n",
    "        r'what tools and methods',\n",
    "        r'what barriers'\n",
    "    ]\n",
    "    \n",
    "    for pattern in patterns_to_remove:\n",
    "        name = re.sub(pattern, '', name)\n",
    "    \n",
    "    name = re.sub(r'[^a-z0-9\\s]', ' ', name)\n",
    "    name = re.sub(r'\\s+', '_', name.strip())\n",
    "    \n",
    "    if len(name) > 50:\n",
    "        keywords = ['gender', 'age', 'country', 'education', 'major', 'job', 'title', \n",
    "                   'industry', 'experience', 'compensation', 'tool', 'language', 'framework',\n",
    "                   'ide', 'notebook', 'cloud', 'database', 'ml', 'ai', 'data', 'viz',\n",
    "                   'time', 'year', 'skill', 'challenge', 'method', 'platform']\n",
    "        \n",
    "        for keyword in keywords:\n",
    "            if keyword in name:\n",
    "                name = keyword + '_' + name.split('_')[-1]\n",
    "                break\n",
    "    \n",
    "    return name\n",
    "\n",
    "\n",
    "def auto_mapper(df):\n",
    "    auto_mapping = auto_create_mapping(df.columns)\n",
    "    return df.rename(columns=auto_mapping)"
   ]
  },
  {
   "cell_type": "code",
   "execution_count": 12,
   "id": "da73f2c5-a5f7-46fa-899c-c81d76ae8b3d",
   "metadata": {},
   "outputs": [],
   "source": [
    "mapped_datasets = {}\n",
    "for key, df in datasets.items():\n",
    "    df['survey_year'] = key\n",
    "    mapped_datasets[key] = auto_mapper(df)"
   ]
  },
  {
   "cell_type": "markdown",
   "id": "69ba7730-b63c-4f65-be8a-4254c7a87260",
   "metadata": {},
   "source": [
    "# Объединение дубликатов"
   ]
  },
  {
   "cell_type": "code",
   "execution_count": 13,
   "id": "9b9e2b6d-95e8-4389-8711-d4e743bd4aed",
   "metadata": {},
   "outputs": [],
   "source": [
    "import tqdm"
   ]
  },
  {
   "cell_type": "code",
   "execution_count": 14,
   "id": "699dab80-cad2-432d-b55f-ce004a96166c",
   "metadata": {},
   "outputs": [],
   "source": [
    "def efficient_merge_duplicates(df):\n",
    "    unique_columns = df.columns.unique()\n",
    "    merged_data = {}\n",
    "    \n",
    "    for col in tqdm.tqdm(unique_columns):\n",
    "        duplicate_cols = [c for c in df.columns if c == col]\n",
    "        \n",
    "        if len(duplicate_cols) == 1:\n",
    "            merged_data[col] = df[col]\n",
    "        else:\n",
    "            duplicate_df = df[duplicate_cols]\n",
    "            \n",
    "            merged_col = duplicate_df.apply(\n",
    "                lambda x: x.dropna().iloc[0] if x.dropna().any() else np.nan, \n",
    "                axis=1\n",
    "            )\n",
    "            merged_data[col] = merged_col\n",
    "    return pd.DataFrame(merged_data, index=df.index)"
   ]
  },
  {
   "cell_type": "code",
   "execution_count": 15,
   "id": "dd2a8b9b-4ccb-46f8-ae2f-07ef3aa1f21a",
   "metadata": {},
   "outputs": [
    {
     "name": "stderr",
     "output_type": "stream",
     "text": [
      "100%|█████████████████████████████████████████| 339/339 [00:25<00:00, 13.18it/s]\n",
      "100%|█████████████████████████████████████████| 199/199 [00:16<00:00, 11.96it/s]\n",
      "100%|█████████████████████████████████████████| 222/222 [00:43<00:00,  5.08it/s]\n",
      "100%|█████████████████████████████████████████| 226/226 [01:00<00:00,  3.74it/s]\n",
      "100%|█████████████████████████████████████████| 235/235 [00:20<00:00, 11.26it/s]\n",
      "100%|█████████████████████████████████████████| 339/339 [00:24<00:00, 13.65it/s]\n"
     ]
    }
   ],
   "source": [
    "normilized_datasets = {}\n",
    "for key, df in mapped_datasets.items():\n",
    "    normilized_datasets[key] = efficient_merge_duplicates(df)"
   ]
  },
  {
   "cell_type": "markdown",
   "id": "c6e84a78-fece-475e-8e74-ecf3ffaa939d",
   "metadata": {},
   "source": [
    "# Создание датасета"
   ]
  },
  {
   "cell_type": "code",
   "execution_count": 16,
   "id": "c1da9765-28b5-40e9-b087-804a7144416f",
   "metadata": {},
   "outputs": [],
   "source": [
    "years = list(normilized_datasets.keys())\n",
    "common_cols = list(set.intersection(*(set(normilized_datasets[year].columns) for year in years)))\n",
    "\n",
    "for year in years:\n",
    "    normilized_datasets[year] = normilized_datasets[year][common_cols]\n",
    "    \n",
    "combined_df = pd.concat(normilized_datasets.values(), ignore_index=True)\n",
    "combined_df.to_csv('kaggle_survey_2018-2025.csv', index=False)"
   ]
  },
  {
   "cell_type": "code",
   "execution_count": null,
   "id": "0e5661c6-b168-4ae2-87d0-3641849f002c",
   "metadata": {},
   "outputs": [],
   "source": []
  }
 ],
 "metadata": {
  "kernelspec": {
   "display_name": "Python 3 (ipykernel)",
   "language": "python",
   "name": "python3"
  },
  "language_info": {
   "codemirror_mode": {
    "name": "ipython",
    "version": 3
   },
   "file_extension": ".py",
   "mimetype": "text/x-python",
   "name": "python",
   "nbconvert_exporter": "python",
   "pygments_lexer": "ipython3",
   "version": "3.13.2"
  }
 },
 "nbformat": 4,
 "nbformat_minor": 5
}
