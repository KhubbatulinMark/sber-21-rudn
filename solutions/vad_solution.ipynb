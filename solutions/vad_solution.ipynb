{
 "cells": [
  {
   "cell_type": "markdown",
   "id": "be6648ee-8453-4ad5-ac94-7080e3ac2c51",
   "metadata": {},
   "source": [
    "# 3) VAD"
   ]
  },
  {
   "cell_type": "code",
   "execution_count": 1,
   "id": "891dfbc2-51ea-43bc-978b-269570179c44",
   "metadata": {},
   "outputs": [
    {
     "ename": "ModuleNotFoundError",
     "evalue": "No module named 'librosa'",
     "output_type": "error",
     "traceback": [
      "\u001b[0;31m---------------------------------------------------------------------------\u001b[0m",
      "\u001b[0;31mModuleNotFoundError\u001b[0m                       Traceback (most recent call last)",
      "Cell \u001b[0;32mIn[1], line 1\u001b[0m\n\u001b[0;32m----> 1\u001b[0m \u001b[38;5;28;01mimport\u001b[39;00m\u001b[38;5;250m \u001b[39m\u001b[38;5;21;01mlibrosa\u001b[39;00m\n\u001b[1;32m      2\u001b[0m \u001b[38;5;28;01mimport\u001b[39;00m\u001b[38;5;250m \u001b[39m\u001b[38;5;21;01mIPython\u001b[39;00m\u001b[38;5;21;01m.\u001b[39;00m\u001b[38;5;21;01mdisplay\u001b[39;00m\u001b[38;5;250m \u001b[39m\u001b[38;5;28;01mas\u001b[39;00m\u001b[38;5;250m \u001b[39m\u001b[38;5;21;01mipd\u001b[39;00m\n\u001b[1;32m      3\u001b[0m \u001b[38;5;28;01mimport\u001b[39;00m\u001b[38;5;250m \u001b[39m\u001b[38;5;21;01mmatplotlib\u001b[39;00m\u001b[38;5;21;01m.\u001b[39;00m\u001b[38;5;21;01mpyplot\u001b[39;00m\u001b[38;5;250m \u001b[39m\u001b[38;5;28;01mas\u001b[39;00m\u001b[38;5;250m \u001b[39m\u001b[38;5;21;01mplt\u001b[39;00m\n",
      "\u001b[0;31mModuleNotFoundError\u001b[0m: No module named 'librosa'"
     ]
    }
   ],
   "source": [
    "import librosa\n",
    "import IPython.display as ipd\n",
    "import matplotlib.pyplot as plt\n",
    "import numpy as np"
   ]
  },
  {
   "cell_type": "code",
   "execution_count": null,
   "id": "bc7a7add-068e-44d9-84f7-8bfe83d043f5",
   "metadata": {},
   "outputs": [],
   "source": [
    "def draw_waveform(wav, sr, figsize=(14, 5)):\n",
    "    plt.figure(figsize=figsize)\n",
    "    librosa.display.waveshow(wav, sr=sr)\n",
    "    ipd.Audio(wav, rate=sr)\n",
    "    plt.show()"
   ]
  },
  {
   "cell_type": "code",
   "execution_count": null,
   "id": "7efa5101-665d-4a48-8ae7-2876bc6f7359",
   "metadata": {},
   "outputs": [],
   "source": [
    "wav, sr = librosa.load(\"test.wav\")"
   ]
  },
  {
   "cell_type": "code",
   "execution_count": null,
   "id": "ef3f3f22-3729-4fc0-a88c-d3380ed1b26a",
   "metadata": {},
   "outputs": [],
   "source": [
    "draw_waveform(wav, sr)"
   ]
  },
  {
   "cell_type": "code",
   "execution_count": null,
   "id": "9aafdce8-9424-4f4e-b054-95209517e2b3",
   "metadata": {},
   "outputs": [],
   "source": [
    "ipd.Audio(wav, rate=sr)"
   ]
  },
  {
   "cell_type": "code",
   "execution_count": null,
   "id": "140379bb-3e25-4360-87c4-145ff3a431df",
   "metadata": {},
   "outputs": [],
   "source": [
    "def energy_based_vad(audio, sr, frame_length=0.03, threshold=0.01):\n",
    "    frame_size = int(frame_length * sr)\n",
    "    n_frames = len(audio) // frame_size\n",
    "    frames = np.array_split(audio[:n_frames * frame_size], n_frames)\n",
    "    energy = [np.sum(np.abs(frame)) / len(frame) for frame in frames]\n",
    "    energy = np.array(energy)\n",
    "    energy = (energy - np.min(energy)) / (np.max(energy) - np.min(energy))\n",
    "    vad_labels = (energy > threshold).astype(int)\n",
    "    \n",
    "    return vad_labels, energy"
   ]
  },
  {
   "cell_type": "code",
   "execution_count": null,
   "id": "27c12fa6-773f-4c42-8243-26e29464c236",
   "metadata": {},
   "outputs": [],
   "source": [
    "def plot_vad(wav, sr, vad_labels):\n",
    "    plt.figure(figsize=(12, 6))\n",
    "    plt.subplot(2, 1, 1)\n",
    "    plt.plot(np.linspace(0, len(wav)/sr, len(wav)), wav)\n",
    "    plt.title(\"Аудиосигнал\")\n",
    "    plt.subplot(2, 1, 2)\n",
    "    plt.plot(np.linspace(0, len(wav)/sr, len(vad_labels)), vad_labels)\n",
    "    plt.title(\"Результат VAD (1 - речь, 0 - пауза)\")\n",
    "    plt.tight_layout()\n",
    "    plt.show()"
   ]
  },
  {
   "cell_type": "code",
   "execution_count": null,
   "id": "23a00714-a587-4915-aa5e-fea0d6b84cca",
   "metadata": {},
   "outputs": [],
   "source": [
    "vad_labels, energy = energy_based_vad(wav, sr, threshold=0.01)"
   ]
  },
  {
   "cell_type": "code",
   "execution_count": null,
   "id": "8e44e453-b2fb-4edf-a325-c0df66913c14",
   "metadata": {},
   "outputs": [],
   "source": [
    "plot_vad(wav, sr, vad_labels)"
   ]
  },
  {
   "cell_type": "code",
   "execution_count": null,
   "id": "822eb70f-7fdd-47fc-9b64-e52d2a7ca3ba",
   "metadata": {},
   "outputs": [],
   "source": []
  }
 ],
 "metadata": {
  "kernelspec": {
   "display_name": "Python 3 (ipykernel)",
   "language": "python",
   "name": "python3"
  },
  "language_info": {
   "codemirror_mode": {
    "name": "ipython",
    "version": 3
   },
   "file_extension": ".py",
   "mimetype": "text/x-python",
   "name": "python",
   "nbconvert_exporter": "python",
   "pygments_lexer": "ipython3",
   "version": "3.11.9"
  }
 },
 "nbformat": 4,
 "nbformat_minor": 5
}
