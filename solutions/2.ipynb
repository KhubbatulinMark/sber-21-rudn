{
 "cells": [
  {
   "cell_type": "code",
   "execution_count": 1,
   "id": "a4f4f0dd-e7e4-4259-b26d-a79ff1144bc8",
   "metadata": {},
   "outputs": [],
   "source": [
    "import pandas as pd"
   ]
  },
  {
   "cell_type": "code",
   "execution_count": 2,
   "id": "9aaed1df-f9aa-4e76-9a08-9788c424840f",
   "metadata": {},
   "outputs": [],
   "source": [
    "df = pd.read_csv('../project-2/datasets/multipleChoiceResponses.csv', low_memory=False) # Указываем путь к файлу"
   ]
  },
  {
   "cell_type": "code",
   "execution_count": 4,
   "id": "d2ac0dd1-b544-4f9f-9842-0326f789a984",
   "metadata": {},
   "outputs": [
    {
     "data": {
      "text/plain": [
       "Index(['Time from Start to Finish (seconds)', 'Q1', 'Q1_OTHER_TEXT', 'Q2',\n",
       "       'Q3', 'Q4', 'Q5', 'Q6', 'Q6_OTHER_TEXT', 'Q7',\n",
       "       ...\n",
       "       'Q49_OTHER_TEXT', 'Q50_Part_1', 'Q50_Part_2', 'Q50_Part_3',\n",
       "       'Q50_Part_4', 'Q50_Part_5', 'Q50_Part_6', 'Q50_Part_7', 'Q50_Part_8',\n",
       "       'Q50_OTHER_TEXT'],\n",
       "      dtype='object', length=395)"
      ]
     },
     "execution_count": 4,
     "metadata": {},
     "output_type": "execute_result"
    }
   ],
   "source": [
    "df.columns"
   ]
  },
  {
   "cell_type": "code",
   "execution_count": null,
   "id": "334fbc73-2069-47a3-a3a6-f3db21ac97d5",
   "metadata": {},
   "outputs": [],
   "source": []
  }
 ],
 "metadata": {
  "kernelspec": {
   "display_name": "Python 3 (ipykernel)",
   "language": "python",
   "name": "python3"
  },
  "language_info": {
   "codemirror_mode": {
    "name": "ipython",
    "version": 3
   },
   "file_extension": ".py",
   "mimetype": "text/x-python",
   "name": "python",
   "nbconvert_exporter": "python",
   "pygments_lexer": "ipython3",
   "version": "3.11.9"
  }
 },
 "nbformat": 4,
 "nbformat_minor": 5
}
