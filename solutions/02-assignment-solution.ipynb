{
 "cells": [
  {
   "cell_type": "markdown",
   "metadata": {},
   "source": [
    "# Проект 02 – Разведочный анализ"
   ]
  },
  {
   "cell_type": "markdown",
   "metadata": {},
   "source": [
    "## 1. Exploratory Data Analysis"
   ]
  },
  {
   "cell_type": "markdown",
   "metadata": {},
   "source": [
    "**Pandas** — это одна из самых популярных библиотек Python для работы с табличными данными. Она предоставляет удобные \n",
    "структуры данных:\n",
    "* **Series** — одномерный массив с индексами, похожий на колонку в таблице;\n",
    "* **DataFrame** — двумерная таблица, где каждая колонка может иметь свой тип данных.\n",
    "\n",
    "С помощью Pandas можно: фильтровать строки и столбцы, группировать данные, агрегировать показатели, объединять таблицы, \n",
    "работать с пропущенными значениями и строить простые визуализации. Владение Pandas — базовый и необходимый навык для \n",
    "проведения EDA."
   ]
  },
  {
   "cell_type": "code",
   "execution_count": 1,
   "metadata": {},
   "outputs": [],
   "source": [
    "import numpy as np\n",
    "import pandas as pd\n",
    "import matplotlib.pyplot as plt"
   ]
  },
  {
   "cell_type": "markdown",
   "metadata": {},
   "source": [
    "### Задание 1.1. Загрузка данных\n",
    "1. Зарегистрируйся на [Kaggle](https://www.kaggle.com/)\n",
    "2. Перейди на страницу датасета [2025 Kaggle Machine Learning & Data Science Survey](https://www.kaggle.com/datasets/sonialikhan/2025-kaggle-machine-learning-and-data-science-survey)\n",
    "3. Скачай CSV-файлы с данными и сохрани их в папку `datasets`\n",
    "4. С помощью библиотеки `pandas` загрузи:\n",
    "   * таблицу с выбором ответов (multiple choice) в переменную `multuple`\n",
    "   * таблицу со свободными ответами (free form) `freeform`\n",
    "5. Выведи размеры каждой таблицы\n",
    "   \n",
    "> **Важно:** загружать датасеты на Git не нужно."
   ]
  },
  {
   "cell_type": "code",
   "execution_count": 2,
   "metadata": {},
   "outputs": [],
   "source": [
    "freeform = pd.read_csv(\"../assets/project2/2025/freeFormResponses.csv\", low_memory=False)"
   ]
  },
  {
   "cell_type": "code",
   "execution_count": 3,
   "metadata": {},
   "outputs": [],
   "source": [
    "multiple = pd.read_csv(\"../assets/project2/2025/multipleChoiceResponses.csv\", low_memory=False)"
   ]
  },
  {
   "cell_type": "code",
   "execution_count": 4,
   "metadata": {},
   "outputs": [
    {
     "data": {
      "text/plain": [
       "(23860, 35)"
      ]
     },
     "execution_count": 4,
     "metadata": {},
     "output_type": "execute_result"
    }
   ],
   "source": [
    "freeform.shape"
   ]
  },
  {
   "cell_type": "code",
   "execution_count": 5,
   "metadata": {},
   "outputs": [
    {
     "data": {
      "text/plain": [
       "(23860, 395)"
      ]
     },
     "execution_count": 5,
     "metadata": {},
     "output_type": "execute_result"
    }
   ],
   "source": [
    "multiple.shape"
   ]
  },
  {
   "cell_type": "code",
   "execution_count": 6,
   "metadata": {},
   "outputs": [],
   "source": [
    "schema = pd.read_csv(\"../assets/project2/2025/SurveySchema.csv\", low_memory=False)"
   ]
  },
  {
   "cell_type": "markdown",
   "metadata": {},
   "source": [
    "### Задание 1.2. Совмещение таблиц\n",
    "1. Найди общие колонки в таблицах `multiple` и `freeform`. Выведи их количество\n",
    "2. Определи количество уникальных значений в колонке `Q1_OTHER_TEXT` для обеих таблиц, включая `NaN`.\n",
    "3. Используя метод `.update()`, дополни DataFrame `multiple` данными из DataFrame `freeform`.\n",
    "4. Переименуй дополненный DataFrame в `responses`.\n",
    "5. Выведи количество уникальных значений в колонке `Q1_OTHER_TEXT` для таблицы `responses`, включая `NaN`.\n"
   ]
  },
  {
   "cell_type": "code",
   "execution_count": 7,
   "metadata": {},
   "outputs": [],
   "source": [
    "freeform_columns = set(freeform.columns)\n",
    "multiple_columns = set(multiple.columns)"
   ]
  },
  {
   "cell_type": "code",
   "execution_count": 8,
   "metadata": {},
   "outputs": [
    {
     "data": {
      "text/plain": [
       "35"
      ]
     },
     "execution_count": 8,
     "metadata": {},
     "output_type": "execute_result"
    }
   ],
   "source": [
    "over_lapper_columns = list(freeform_columns.intersection(multiple_columns))\n",
    "len(over_lapper_columns)"
   ]
  },
  {
   "cell_type": "code",
   "execution_count": 9,
   "metadata": {},
   "outputs": [
    {
     "data": {
      "text/plain": [
       "Q1_OTHER_TEXT\n",
       "-1    23780\n",
       "42        4\n",
       "25        4\n",
       "20        3\n",
       "14        2\n",
       "      ...  \n",
       "31        1\n",
       "32        1\n",
       "33        1\n",
       "35        1\n",
       "67        1\n",
       "Name: count, Length: 68, dtype: int64"
      ]
     },
     "execution_count": 9,
     "metadata": {},
     "output_type": "execute_result"
    }
   ],
   "source": [
    "multiple[\"Q1_OTHER_TEXT\"].value_counts(dropna=False)"
   ]
  },
  {
   "cell_type": "code",
   "execution_count": 10,
   "metadata": {},
   "outputs": [
    {
     "data": {
      "text/plain": [
       "Q1_OTHER_TEXT\n",
       "NaN                          23780\n",
       "non-binary                       4\n",
       "Agender                          4\n",
       "Non-binary                       3\n",
       "Male                             2\n",
       "                             ...  \n",
       "Transgender Female               1\n",
       "genderless                       1\n",
       "Nonbinary (born female)          1\n",
       "bigender                         1\n",
       "Apache Attack Helicopter         1\n",
       "Name: count, Length: 68, dtype: int64"
      ]
     },
     "execution_count": 10,
     "metadata": {},
     "output_type": "execute_result"
    }
   ],
   "source": [
    "freeform[\"Q1_OTHER_TEXT\"].value_counts(dropna=False)"
   ]
  },
  {
   "cell_type": "code",
   "execution_count": 11,
   "metadata": {},
   "outputs": [],
   "source": [
    "multiple.update(freeform, overwrite=True)"
   ]
  },
  {
   "cell_type": "code",
   "execution_count": 12,
   "metadata": {},
   "outputs": [],
   "source": [
    "responses = multiple"
   ]
  },
  {
   "cell_type": "code",
   "execution_count": 13,
   "metadata": {},
   "outputs": [
    {
     "data": {
      "text/plain": [
       "Q1_OTHER_TEXT\n",
       "-1                           23702\n",
       "42                               4\n",
       "25                               4\n",
       "Agender                          4\n",
       "non-binary                       4\n",
       "                             ...  \n",
       "24                               1\n",
       "shemale                          1\n",
       "23                               1\n",
       "22                               1\n",
       "Apache Attack Helicopter         1\n",
       "Name: count, Length: 133, dtype: int64"
      ]
     },
     "execution_count": 13,
     "metadata": {},
     "output_type": "execute_result"
    }
   ],
   "source": [
    "responses[\"Q1_OTHER_TEXT\"].value_counts(dropna=False)"
   ]
  },
  {
   "cell_type": "markdown",
   "metadata": {},
   "source": [
    "### Задание 1.3. Словарь вопросов\n",
    "В таблице `responses` первая строка содержит текстовые формулировки вопросов\n",
    "(например: *'What is your gender? - Selected Choice'*, *'What is your age (# years)?'* и т. д.), а сами данные \n",
    "начинаются со второй строки.\n",
    "\n",
    "1. Преврати первую строку таблицы `responses` в словарь и сохрани его в переменную `column2question`, где ключами \n",
    "будут названия колонок, а значениями — формулировки вопросов.\n",
    "2. Удали эту строку из таблицы `responses`.\n",
    "3. Выведи тип переменной `column2question`.\n",
    "4. Выведи размерность таблицы `responses` после удаления первой строки.\n"
   ]
  },
  {
   "cell_type": "code",
   "execution_count": 14,
   "metadata": {},
   "outputs": [],
   "source": [
    "name2question1 = responses.iloc[0].to_dict()"
   ]
  },
  {
   "cell_type": "code",
   "execution_count": 15,
   "metadata": {},
   "outputs": [
    {
     "data": {
      "text/plain": [
       "'What is your gender? - Selected Choice'"
      ]
     },
     "execution_count": 15,
     "metadata": {},
     "output_type": "execute_result"
    }
   ],
   "source": [
    "name2question1['Q1']"
   ]
  },
  {
   "cell_type": "code",
   "execution_count": 16,
   "metadata": {},
   "outputs": [
    {
     "data": {
      "text/plain": [
       "dict"
      ]
     },
     "execution_count": 16,
     "metadata": {},
     "output_type": "execute_result"
    }
   ],
   "source": [
    "type(name2question1)"
   ]
  },
  {
   "cell_type": "code",
   "execution_count": 17,
   "metadata": {},
   "outputs": [
    {
     "data": {
      "text/plain": [
       "(23859, 395)"
      ]
     },
     "execution_count": 17,
     "metadata": {},
     "output_type": "execute_result"
    }
   ],
   "source": [
    "responses = responses.drop(0)\n",
    "responses.shape"
   ]
  },
  {
   "cell_type": "markdown",
   "metadata": {},
   "source": [
    "### Задание 1.4. Очистка респондентов\n",
    "\n",
    "В данных есть информация о времени заполнения опроса. Логично предположить, что если респондент отвечал **слишком быстро** или, наоборот, **слишком долго**, такие ответы могут быть недостоверными. Для очистки данных воспользуемся методом выявления выбросов на основе **box plot**.\n",
    "\n",
    "**Box plot (ящик с усами)** — это способ визуализации распределения данных. Внутри прямоугольника (ящика) находятся значения от 1-го до 3-го квартиля (Q1 и Q3), линия внутри — это медиана. «Усы» обычно определяются через **интерквартильный размах (IQR)**, который равен:\n",
    "\n",
    "$$IQR = Q3 - Q1$$\n",
    "Значения ниже $Q1 - 1.5 \\times IQR$ и выше $Q3 + 1.5 \\times IQR$ считаются выбросами."
   ]
  },
  {
   "cell_type": "markdown",
   "metadata": {},
   "source": [
    "1. Построй box plot для времени заполнения опроса. Ограничь ось **X** от 0 до 5000 секунд.\n",
    "2. Рассчитай интерквартильный размах (IQR).\n",
    "3. Выведи нижнюю и верхнюю границы интервала для выявления выбросов.\n",
    "4. Так как нижняя граница получилась отрицательной, будем априорно считать минимальное адекватное время заполнения равным **2 минутам (120 секунд)**.\n",
    "5. Отфильтруй DataFrame, оставив только респондентов с временем заполнения от 120 секунд до верхней границы.\n",
    "6. Выведи размерность очищенного датасета."
   ]
  },
  {
   "cell_type": "code",
   "execution_count": 18,
   "metadata": {},
   "outputs": [],
   "source": [
    "responses[\"Time from Start to Finish (seconds)\"] = responses[\"Time from Start to Finish (seconds)\"].astype(int)"
   ]
  },
  {
   "cell_type": "code",
   "execution_count": 19,
   "metadata": {},
   "outputs": [
    {
     "data": {
      "image/png": "[encoded data removed]",
      "text/plain": [
       "<Figure size 640x480 with 1 Axes>"
      ]
     },
     "metadata": {},
     "output_type": "display_data"
    }
   ],
   "source": [
    "responses[\"Time from Start to Finish (seconds)\"].plot.box()\n",
    "plt.ylim(0, 5000)\n",
    "plt.show();"
   ]
  },
  {
   "cell_type": "code",
   "execution_count": 20,
   "metadata": {},
   "outputs": [
    {
     "name": "stdout",
     "output_type": "stream",
     "text": [
      "1272.0\n"
     ]
    }
   ],
   "source": [
    "Q1 = np.percentile(responses[\"Time from Start to Finish (seconds)\"], 25)\n",
    "Q3 = np.percentile(responses[\"Time from Start to Finish (seconds)\"], 75)\n",
    "IQR = Q3 - Q1\n",
    "print(IQR)"
   ]
  },
  {
   "cell_type": "code",
   "execution_count": 21,
   "metadata": {},
   "outputs": [
    {
     "name": "stdout",
     "output_type": "stream",
     "text": [
      "Upper Bound: 3750.0\n",
      "Lower Bound: -1338.0\n"
     ]
    }
   ],
   "source": [
    "upper = Q3+1.5*IQR\n",
    "print(\"Upper Bound:\", upper)\n",
    "\n",
    "lower = Q1-1.5*IQR\n",
    "print(\"Lower Bound:\", lower)"
   ]
  },
  {
   "cell_type": "code",
   "execution_count": 22,
   "metadata": {},
   "outputs": [],
   "source": [
    "responses = responses[\n",
    "    (responses[\"Time from Start to Finish (seconds)\"] < upper) & \n",
    "    (responses[\"Time from Start to Finish (seconds)\"] > 120)\n",
    "]"
   ]
  },
  {
   "cell_type": "code",
   "execution_count": 23,
   "metadata": {},
   "outputs": [
    {
     "data": {
      "text/plain": [
       "(18696, 395)"
      ]
     },
     "execution_count": 23,
     "metadata": {},
     "output_type": "execute_result"
    }
   ],
   "source": [
    "responses.shape"
   ]
  },
  {
   "cell_type": "markdown",
   "metadata": {},
   "source": [
    "### Задание 1.5. Не популярный гендер\n",
    "Обработай результаты опроса по вопросу `What is your gender?`:\n",
    "1. Объедини ответы из обеих колонок\n",
    "2. Удали у всех значений ведущие и завершающие пробелы\n",
    "3. Приведи все ответы к нижнему регистру\n",
    "4. Удали ответы, содержащие числа\n",
    "5. Выведи **топ-6 самых популярных** вариантов ответа"
   ]
  },
  {
   "cell_type": "code",
   "execution_count": 24,
   "metadata": {},
   "outputs": [
    {
     "data": {
      "text/plain": [
       "'What is your gender? - Selected Choice'"
      ]
     },
     "execution_count": 24,
     "metadata": {},
     "output_type": "execute_result"
    }
   ],
   "source": [
    "name2question1[\"Q1\"]"
   ]
  },
  {
   "cell_type": "code",
   "execution_count": 25,
   "metadata": {},
   "outputs": [
    {
     "data": {
      "text/plain": [
       "'What is your gender? - Prefer to self-describe - Text'"
      ]
     },
     "execution_count": 25,
     "metadata": {},
     "output_type": "execute_result"
    }
   ],
   "source": [
    "name2question1[\"Q1_OTHER_TEXT\"]"
   ]
  },
  {
   "cell_type": "code",
   "execution_count": 26,
   "metadata": {},
   "outputs": [],
   "source": [
    "q1_res = responses[\"Q1\"].str.lower().str.strip().value_counts()\n",
    "mask = q1_res.index.astype(str).str.contains(r\"\\d\")\n",
    "q1_res = q1_res[~mask]\n",
    "\n",
    "q1_res_text = responses[\"Q1_OTHER_TEXT\"].str.lower().str.strip().value_counts()\n",
    "mask = q1_res_text.index.astype(str).str.contains(r\"\\d\")\n",
    "q1_res_text = q1_res_text[~mask]"
   ]
  },
  {
   "cell_type": "code",
   "execution_count": 27,
   "metadata": {},
   "outputs": [],
   "source": [
    "a = pd.concat([q1_res, q1_res_text])"
   ]
  },
  {
   "cell_type": "code",
   "execution_count": 28,
   "metadata": {},
   "outputs": [
    {
     "data": {
      "text/plain": [
       "Index(['male', 'female', 'prefer not to say', 'prefer to self-describe',\n",
       "       'attack helicopter', 'non-binary', 'agender', 'female', 'nonbinary',\n",
       "       'male', 'transgender', 'transgender female', 'human', 'kaggle',\n",
       "       'a little sunshine. :)', 'non binary', 'm', 'unclear', 'ai',\n",
       "       'male and female are sexes not gender. gender is a regressive set of stereotypes associated with our sex. ask what sex we are for demographic purposes, if that is what is important.',\n",
       "       'my sex is male (no idea about \"gender\")', 'bot', 'mard',\n",
       "       'hetero flexible', 'no binary', 'nunya', 'shemale', 'barn owl',\n",
       "       'gelatinous blob', 'fhjdfjhdfhj', 'apache helicopter',\n",
       "       'male but asking this at the begining of surveys is going to cause priming and distort your answers. google it. 😀',\n",
       "       'gaseous', 'trollogender', 'megatron', 'bigender', 'testosterone',\n",
       "       'neutrois', 'bisexual', 'helicopter', 'jedi', 'surly tomato',\n",
       "       'baba yaga', 'transgender-fluid transracial black apache fox', 'noyb',\n",
       "       'apache attack helicopter'],\n",
       "      dtype='object')"
      ]
     },
     "execution_count": 28,
     "metadata": {},
     "output_type": "execute_result"
    }
   ],
   "source": [
    "a.sort_values(ascending=False).index"
   ]
  }
 ],
 "metadata": {
  "kernelspec": {
   "display_name": "Python 3 (ipykernel)",
   "language": "python",
   "name": "python3"
  },
  "language_info": {
   "codemirror_mode": {
    "name": "ipython",
    "version": 3
   },
   "file_extension": ".py",
   "mimetype": "text/x-python",
   "name": "python",
   "nbconvert_exporter": "python",
   "pygments_lexer": "ipython3",
   "version": "3.11.9"
  }
 },
 "nbformat": 4,
 "nbformat_minor": 4
}
