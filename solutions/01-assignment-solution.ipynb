{
 "cells": [
  {
   "cell_type": "markdown",
   "id": "fffcbb2c-4423-4f1c-bc90-e1ac7fbaa456",
   "metadata": {},
   "source": [
    "# Проект 01 – Python "
   ]
  },
  {
   "cell_type": "markdown",
   "id": "c2d747fe-7b74-43e0-95b3-16525e9846ac",
   "metadata": {},
   "source": [
    "## Инвертированный индекс"
   ]
  },
  {
   "cell_type": "markdown",
   "id": "7e45e207-d01f-4f42-8086-132a784923a7",
   "metadata": {},
   "source": [
    "Информационный поиск (Information Retrieval) — это область компьютерных наук, которая изучает методы поиска нужной\n",
    "информации в больших коллекциях данных. Классический пример — поисковые системы в интернете, которые позволяют найти \n",
    "документы, статьи или веб-страницы по ключевым словам.\n",
    "\n",
    "Цель информационного поиска — не просто найти документы, содержащие слово, но и оценить их релевантность запросу \n",
    "пользователя. Одним из основных инструментов в информационном поиске является **инвертированный индекс**.\n",
    "\n",
    "**Инвертированный индекс** — это структура данных, которая для каждого уникального слова хранит список документов или \n",
    "частей текста, где это слово встречается. Проще говоря, он «переворачивает» данные: вместо списка документов с их \n",
    "словами создаётся список слов с привязкой к документам."
   ]
  },
  {
   "cell_type": "markdown",
   "id": "4979376e-8702-4b72-a62f-03ae784312ea",
   "metadata": {},
   "source": [
    "<center><img src=\"../misc/inverted_index_scheme.png\" alt=\"inverted_index_scheme.png\" width=\"600\"/>"
   ]
  },
  {
   "cell_type": "markdown",
   "id": "a808a4f3-8d7b-4ac1-80f2-b3bdd9a7d3d5",
   "metadata": {},
   "source": [
    "### Задание 1.1. Разделение на предложения\n",
    "* Считай текст книги **«Война и мир»** из `.txt` [файла](datasets/war_and_peace.txt)\n",
    "* Раздели текст на предложения по знакам `. ! ?`, удали пробелы и пустые строки\n",
    "* Посмотри на полученные предложения и приведи несколько примеров, когда разбиение некорреткное\n",
    "* Раздели текст на предложения с помощью библиотеки [razdel](https://github.com/natasha/razdel)\n",
    "* Выведи количество предложений, полученных с помощью `razdel`"
   ]
  },
  {
   "cell_type": "code",
   "execution_count": 1,
   "id": "22123d54-d402-4e2b-8405-cbd0f04a1af2",
   "metadata": {},
   "outputs": [],
   "source": [
    "import re"
   ]
  },
  {
   "cell_type": "code",
   "execution_count": 2,
   "id": "c524c524-b8bc-41a3-adbd-39f133ee052d",
   "metadata": {},
   "outputs": [],
   "source": [
    "book_path = \"../project-1/datasets/war_and_peace.txt\""
   ]
  },
  {
   "cell_type": "code",
   "execution_count": 3,
   "id": "26783b10-1482-4bb7-b847-7d3f3e054106",
   "metadata": {},
   "outputs": [],
   "source": [
    "with open(book_path, \"r\", encoding=\"utf-8\") as f:\n",
    "    text = f.read()"
   ]
  },
  {
   "cell_type": "code",
   "execution_count": 4,
   "id": "c8dfde1f-58b5-414b-80de-f58e4eac8ae1",
   "metadata": {},
   "outputs": [],
   "source": [
    "sentences = re.split(\"[.?!]\", text)\n",
    "sentences = [s.strip() for s in sentences if s.strip()]"
   ]
  },
  {
   "cell_type": "code",
   "execution_count": 5,
   "id": "f47cbfdf-35ba-4e30-a87d-2ecfdb0c50c9",
   "metadata": {},
   "outputs": [],
   "source": [
    "from razdel import sentenize"
   ]
  },
  {
   "cell_type": "code",
   "execution_count": 6,
   "id": "246cbf8b-13bb-4ff2-8854-5d43499e913f",
   "metadata": {},
   "outputs": [],
   "source": [
    "sentences = [s.text for s in sentenize(text)]"
   ]
  },
  {
   "cell_type": "code",
   "execution_count": 7,
   "id": "e6d6bc15-de62-4d05-b166-76ef1ad7e849",
   "metadata": {},
   "outputs": [
    {
     "data": {
      "text/plain": [
       "30255"
      ]
     },
     "execution_count": 7,
     "metadata": {},
     "output_type": "execute_result"
    }
   ],
   "source": [
    "len(sentences)"
   ]
  },
  {
   "cell_type": "markdown",
   "id": "ce90007f-58bf-46a5-a61e-88ed655a36b0",
   "metadata": {},
   "source": [
    "### Задание 1.2. Очистка текста\n",
    "* Очисти текст от знаков препинания и приведи все слова к **нижнему регистру**\n",
    "* Разбей каждое предложение на список слов\n",
    "* Удали **стоп-слова** из [файла](datasets/stop_words_russian.txt)\n",
    "* Удали все пустые предложения (те, что после очистки не содержат слов)\n",
    "* Выведи:\n",
    "  * **количество слов** в самом длинном предложении\n",
    "  * **общее количество предложений**, оставшихся после очистки."
   ]
  },
  {
   "cell_type": "code",
   "execution_count": 8,
   "id": "7a57b145-7526-486c-9a70-38c8c76f40e3",
   "metadata": {},
   "outputs": [],
   "source": [
    "stopwords_path = \"../project-1/datasets/stop_words_russian.txt\""
   ]
  },
  {
   "cell_type": "code",
   "execution_count": 9,
   "id": "b43f74e2-5ef6-4599-9ec4-c12344022760",
   "metadata": {},
   "outputs": [],
   "source": [
    "with open(stopwords_path, \"r\", encoding=\"utf-8\") as f:\n",
    "    stopwords = set(word.strip() for word in f)"
   ]
  },
  {
   "cell_type": "code",
   "execution_count": 10,
   "id": "5aabcbcf-231d-4718-bd2f-8da7108256a4",
   "metadata": {},
   "outputs": [],
   "source": [
    "processed_sentences = []\n",
    "for sent in sentences:\n",
    "    # удалить всё, кроме букв и пробелов\n",
    "    clean_sent = re.sub(r\"[^а-яА-ЯёЁa-zA-Z ]\", \" \", sent)\n",
    "    # нижний регистр\n",
    "    clean_sent = clean_sent.lower()\n",
    "    # разбить на слова\n",
    "    words = clean_sent.split()\n",
    "    # удалить стоп-слова\n",
    "    words = [w for w in words if w not in stopwords]\n",
    "    if words:\n",
    "        processed_sentences.append(words)"
   ]
  },
  {
   "cell_type": "code",
   "execution_count": 11,
   "id": "605b8ec6-c8d3-451c-aa39-a451e967d54e",
   "metadata": {},
   "outputs": [
    {
     "data": {
      "text/plain": [
       "29620"
      ]
     },
     "execution_count": 11,
     "metadata": {},
     "output_type": "execute_result"
    }
   ],
   "source": [
    "len(processed_sentences)"
   ]
  },
  {
   "cell_type": "code",
   "execution_count": 12,
   "id": "eaa56628-9e22-4639-b82e-71c0c4efea95",
   "metadata": {},
   "outputs": [],
   "source": [
    "longest_sentence = max(processed_sentences, key=len)"
   ]
  },
  {
   "cell_type": "code",
   "execution_count": 13,
   "id": "8d157708-be00-4d08-9e03-7ed77d29f58c",
   "metadata": {},
   "outputs": [
    {
     "name": "stdout",
     "output_type": "stream",
     "text": [
      "Самое длинное предложение (количество слов: 136 ):\n"
     ]
    }
   ],
   "source": [
    "print(\"Самое длинное предложение (количество слов:\", len(longest_sentence), \"):\")"
   ]
  },
  {
   "cell_type": "code",
   "execution_count": 14,
   "id": "749454fc-1ff9-496a-b2d9-4e6c751e164e",
   "metadata": {},
   "outputs": [
    {
     "name": "stdout",
     "output_type": "stream",
     "text": [
      "граф растопчин стыдил уезжали вывозил присутственные места выдавал годное оружие пьяному сброду поднимал образа запрещал августину вывозить мощи иконы захватывал частные подводы бывшие москве ста тридцати шести подводах увозил делаемый леппихом воздушный шар намекал сожжет москву рассказывал сжег свой дом написал прокламацию французам торжественно упрекал разорили детский приют принимал славу сожжения москвы отрекался приказывал народу ловить шпионов приводить упрекал народ высылал французов москвы оставлял городе жу обер шальме составлявшую центр французского московского населения особой вины приказывал схватить увезти ссылку старого почтенного почт директора ключарева сбирал народ горы драться французами отделаться народа отдавал убийство человека уезжал задние ворота переживет несчастия москвы писал альбомы французски стихи своем участии деле понимал значения совершающегося события хотел сделать удивить совершить патриотически геройское мальчик резвился величавым неизбежным событием оставления сожжения москвы старался маленькой рукой поощрять задерживать течение громадного уносившего вместе народного потока\n"
     ]
    }
   ],
   "source": [
    "print(\" \".join(longest_sentence))"
   ]
  },
  {
   "cell_type": "markdown",
   "id": "5e86456a-7166-483e-84ec-ab460111ff64",
   "metadata": {},
   "source": [
    "### Задание 1.3. Построение инвертированного индекса\n",
    "Реализуй **инвертированный индекс** для поиска слов в предложениях с помощью класса `InvertedIndex`.\n",
    "\n",
    "**Что нужно сделать:**\n",
    "\n",
    "* Реализуй метод `build_index`, который строит индекс из списка документов, где каждый документ — это список слов.\n",
    "  * Для каждого уникального слова сохраняй список id документов (предложений), в которых оно встречается.\n",
    "  * Используй атрибут `word2doc` для хранения данных.\n",
    "* Реализуй метод `save_index`, чтобы **сохранять индекс в файл** (например, с помощью `pickle`) для последующего использования.\n",
    "* Реализуй метод `load_index`, чтобы **загружать индекс из файла**.\n",
    "* Реализуй метод `__len__`, который возвращает **количество уникальных слов** в индексе.\n",
    "\n",
    "**Протестируй работу индекса:**\n",
    "\n",
    "1. Построй индекс на списке предложений книги.\n",
    "2. **Сохрани** индекс в файл.\n",
    "3. **Загрузи** индекс из файла в **новый объект**.\n",
    "4. Выведи количество **уникальных слов** в загруженном индексе"
   ]
  },
  {
   "cell_type": "code",
   "execution_count": 15,
   "id": "53e895a0-d2de-4d88-af35-692af265368d",
   "metadata": {},
   "outputs": [],
   "source": [
    "from typing import List, Dict\n",
    "from collections import defaultdict"
   ]
  },
  {
   "cell_type": "code",
   "execution_count": 16,
   "id": "133d2a9f-1af6-4183-9d58-28b137de3289",
   "metadata": {},
   "outputs": [],
   "source": [
    "class InvertedIndex:\n",
    "    \"\"\"Класс для инвертированного индекса\"\"\"\n",
    "\n",
    "    def __init__(self):\n",
    "        self.word2doc = defaultdict(list)\n",
    "\n",
    "    def build_index(self, documents: List[str]):\n",
    "        \"\"\"\n",
    "        Построение инвертированного индекса из списка документов\n",
    "        documents: список, где каждый элемент — список слов в предложении\n",
    "        \"\"\"\n",
    "        pass\n",
    "\n",
    "    def save_index(self, filepath: str):\n",
    "        \"\"\"Сохранение индекса на диск\"\"\"\n",
    "        pass\n",
    "\n",
    "    def load_index(self, filepath: str):\n",
    "        \"\"\"Загрузка индекса с диска\"\"\"\n",
    "        pass"
   ]
  },
  {
   "cell_type": "code",
   "execution_count": 17,
   "id": "180f7343-7048-4744-9407-cbf5a273a19a",
   "metadata": {},
   "outputs": [],
   "source": [
    "import pickle"
   ]
  },
  {
   "cell_type": "code",
   "execution_count": 18,
   "id": "f5fc6052-2973-45f8-8824-4e329d8a7dfd",
   "metadata": {},
   "outputs": [],
   "source": [
    "class InvertedIndex:\n",
    "    \"\"\"Класс для инвертированного индекса\"\"\"\n",
    "\n",
    "    def __init__(self):\n",
    "        self.word2doc = defaultdict(list)\n",
    "\n",
    "    def __len__(self):\n",
    "        return len(self.word2doc)\n",
    "\n",
    "    def build_index(self, documents: List[List[str]]):\n",
    "        \"\"\"\n",
    "        Реализуй построение инвертированного индекса из списка документов.\n",
    "        documents: список, где каждый элемент — список слов в предложении.\n",
    "        \"\"\"\n",
    "        self.word2doc.clear()\n",
    "        for doc_id, words in enumerate(documents):\n",
    "            unique_words = set(words)\n",
    "            for word in unique_words:\n",
    "                self.word2doc[word].append(doc_id)\n",
    "\n",
    "    def query(self, words: List[str]) -> List[int]:\n",
    "        \"\"\"\n",
    "        Реализуй поиск предложений, содержащих все слова из списка words.\n",
    "        Возвращает список id предложений, отсортированный по возрастанию.\n",
    "        \"\"\"\n",
    "        if not words:\n",
    "            return []\n",
    "\n",
    "        # Начинаем с множества документов первого слова\n",
    "        result_set = set(self.word2doc.get(words[0], []))\n",
    "        for word in words[1:]:\n",
    "            result_set &= set(self.word2doc.get(word, []))  # пересечение множеств\n",
    "\n",
    "        return sorted(result_set)\n",
    "\n",
    "    def save_index(self, filepath: str):\n",
    "        \"\"\"Реализуй сохранение индекса на диск\"\"\"\n",
    "        with open(filepath, \"wb\") as f:\n",
    "            pickle.dump(self.word2doc, f)\n",
    "\n",
    "    def load_index(self, filepath: str):\n",
    "        \"\"\"Реализуй загрузку индекса с диска\"\"\"\n",
    "        with open(filepath, \"rb\") as f:\n",
    "            self.word2doc = pickle.load(f)"
   ]
  },
  {
   "cell_type": "code",
   "execution_count": 19,
   "id": "1f45e58f-52c2-42c9-8874-d3ff0bda128a",
   "metadata": {},
   "outputs": [],
   "source": [
    "index = InvertedIndex()\n",
    "index.build_index(processed_sentences)"
   ]
  },
  {
   "cell_type": "code",
   "execution_count": 20,
   "id": "fd1866bd-f98b-44b5-8036-40ee990668b0",
   "metadata": {},
   "outputs": [],
   "source": [
    "index.save_index(\"index.pkl\")"
   ]
  },
  {
   "cell_type": "code",
   "execution_count": 21,
   "id": "19f99331-c0f5-413e-8745-3b05648ee271",
   "metadata": {},
   "outputs": [],
   "source": [
    "index2 = InvertedIndex()"
   ]
  },
  {
   "cell_type": "code",
   "execution_count": 22,
   "id": "aef889df-84dc-4361-9d6a-4d532f2780f9",
   "metadata": {},
   "outputs": [],
   "source": [
    "index2.load_index(\"index.pkl\")"
   ]
  },
  {
   "cell_type": "code",
   "execution_count": 23,
   "id": "e9430586-bb14-4ce6-ae8e-51623b3e9fe0",
   "metadata": {},
   "outputs": [
    {
     "data": {
      "text/plain": [
       "51639"
      ]
     },
     "execution_count": 23,
     "metadata": {},
     "output_type": "execute_result"
    }
   ],
   "source": [
    "len(index2)"
   ]
  },
  {
   "cell_type": "markdown",
   "id": "668c905f-9692-4ab8-8937-e9c6f67f8acf",
   "metadata": {},
   "source": [
    "### Задание 1.4. Поиск по индексу\n",
    "* Реализуй метод `query` класса `InvertedIndex`, который выполняет поиск слов в индексе.\n",
    "* Метод принимает **список слов** и возвращает список id предложений, в которых встречаются **все указанные слова** (операция «и»).\n",
    "* Результат должен быть **отсортирован по возрастанию** id предложения.\n",
    "* Проверь работу метода `query` на следующих примерах:\n",
    "  * Слово: `университет`\n",
    "  * Слова: `война` и `мир`\n",
    "  * Слово: `школа`"
   ]
  },
  {
   "cell_type": "code",
   "execution_count": 24,
   "id": "a7f9c3eb-3d6a-4499-a419-e2cac1d166c6",
   "metadata": {},
   "outputs": [
    {
     "data": {
      "text/plain": [
       "[0, 1, 7568, 7569, 15258, 15259, 15260, 23307]"
      ]
     },
     "execution_count": 24,
     "metadata": {},
     "output_type": "execute_result"
    }
   ],
   "source": [
    "index2.query([\"война\", \"мир\"])"
   ]
  },
  {
   "cell_type": "code",
   "execution_count": 25,
   "id": "a0ffca67-0e2d-42e0-8107-776abf0ee5a3",
   "metadata": {},
   "outputs": [
    {
     "data": {
      "text/plain": [
       "[1013, 2387, 16480]"
      ]
     },
     "execution_count": 25,
     "metadata": {},
     "output_type": "execute_result"
    }
   ],
   "source": [
    "index2.query([\"университет\"])"
   ]
  },
  {
   "cell_type": "code",
   "execution_count": 26,
   "id": "1d1fe9e6-88f9-417e-8df6-f8cb6804a5eb",
   "metadata": {},
   "outputs": [
    {
     "data": {
      "text/plain": [
       "[]"
      ]
     },
     "execution_count": 26,
     "metadata": {},
     "output_type": "execute_result"
    }
   ],
   "source": [
    "index2.query([\"школа\"])"
   ]
  },
  {
   "cell_type": "markdown",
   "id": "d34e84e1-dee4-4f8f-abe3-3d9b88a5f58d",
   "metadata": {},
   "source": [
    "## Головоломка Судоку"
   ]
  },
  {
   "cell_type": "markdown",
   "id": "a967f721-dd92-4bbe-96b6-a04e85c2cecf",
   "metadata": {},
   "source": [
    "После предыдущих заданий, где мы вспомнили базовый синтаксис Python, перейдём к изучению библиотеки **NumPy**.\n",
    "\n",
    "**NumPy** — это мощный инструмент для работы с массивами и матрицами, который широко используется в анализе данных и \n",
    "научных вычислениях. Чтобы почувствовать себя увереннее при работе с матрицами, мы попробуем реализовать \n",
    "**решатель головоломок Судоку**.\n",
    "\n",
    "В этом задании ты научишься:\n",
    "* Работать с матрицами и массивами с помощью NumPy,\n",
    "* Практиковаться в использовании базовых алгоритмов и циклов,\n",
    "* Писать программу, которая решает головоломку Судоку,\n",
    "* Писать **тесты для проверки корректности решения**, чтобы убедиться, что солвер работает правильно.\n"
   ]
  },
  {
   "cell_type": "markdown",
   "id": "bb7945e8-ce22-4e6f-8714-4f0a5e81ccc5",
   "metadata": {},
   "source": [
    "### Задание 2.1. Запрос по API\n",
    "* Изучи API [YouDoSudoku](https://www.youdosudoku.com/) и разберитесь, как получать игры судоку и их решения.\n",
    "* Напиши функцию `get_sudoku(level)`, которая принимает уровень сложности (`'easy'`, `'medium'`, `'hard'`).\n",
    "* Функция должна возвращать две матрицы `numpy` размером 9×9: одну с головоломкой, другую — с полным решением.\n",
    "* После запроса выведи обе матрицы, чтобы убедиться, что данные получены и преобразованы правильно.\n"
   ]
  },
  {
   "cell_type": "code",
   "execution_count": 27,
   "id": "a8899632-eb01-476f-815e-9e65a8ae8ddc",
   "metadata": {},
   "outputs": [],
   "source": [
    "import requests\n",
    "import numpy as np"
   ]
  },
  {
   "cell_type": "code",
   "execution_count": 28,
   "id": "0d03cb43-fe69-404d-b38d-22a864b95f19",
   "metadata": {},
   "outputs": [],
   "source": [
    "def get_sudoku(level=\"easy\"):\n",
    "    \"\"\"\n",
    "    Получение поля Судоку с API YouDoSudoku.\n",
    "    level: \"easy\", \"medium\", \"hard\"\n",
    "    \"\"\"\n",
    "    body = {\n",
    "        \"difficulty\": level, # \"easy\", \"medium\", or \"hard\" (defaults to \"easy\")\n",
    "        \"solution\": True, # True or False (defaults to True)\n",
    "        \"array\": False # True or False (defaults to False)\n",
    "    }\n",
    "    headers =  {\"Content-Type\":\"application/json\"}\n",
    "    url = f\"https://youdosudoku-api.com/api/\"\n",
    "    response = requests.get(\"https://you-do-sudoku-api.vercel.app/api\", json=body, headers=headers)\n",
    "    if response.status_code != 200:\n",
    "        raise RuntimeError(\"Ошибка при получении судоку\")\n",
    "    \n",
    "    data = response.json()\n",
    "    # Предполагаем, что поле возвращается в data['board']\n",
    "    sudoku_list = [int(char) for char in data['puzzle']]\n",
    "    sudoku_array = np.array(sudoku_list).reshape(9, 9)\n",
    "    solution = [int(char) for char in data['solution']]\n",
    "    solution = np.array(solution).reshape(9, 9)\n",
    "    return sudoku_array, solution"
   ]
  },
  {
   "cell_type": "code",
   "execution_count": 29,
   "id": "eff88423-8c96-4539-be33-0578caa41ae3",
   "metadata": {},
   "outputs": [
    {
     "name": "stdout",
     "output_type": "stream",
     "text": [
      "[[0 6 0 0 0 5 0 9 0]\n",
      " [5 0 0 0 9 0 0 0 3]\n",
      " [0 4 0 6 0 0 0 8 0]\n",
      " [0 0 0 3 0 8 0 0 0]\n",
      " [7 0 3 9 2 0 0 0 0]\n",
      " [0 5 0 4 0 0 0 0 2]\n",
      " [0 0 4 0 0 0 0 0 0]\n",
      " [8 0 0 0 0 0 5 0 0]\n",
      " [0 9 0 0 8 2 4 0 0]]\n"
     ]
    }
   ],
   "source": [
    "sudoku_board, solution = get_sudoku(\"hard\")\n",
    "print(sudoku_board)"
   ]
  },
  {
   "cell_type": "code",
   "execution_count": 30,
   "id": "317e2f3f-2ad9-4462-b37c-659475875077",
   "metadata": {},
   "outputs": [
    {
     "name": "stdout",
     "output_type": "stream",
     "text": [
      "[[3 6 7 8 4 5 2 9 1]\n",
      " [5 8 1 2 9 7 6 4 3]\n",
      " [2 4 9 6 1 3 7 8 5]\n",
      " [4 2 6 3 5 8 9 1 7]\n",
      " [7 1 3 9 2 6 8 5 4]\n",
      " [9 5 8 4 7 1 3 6 2]\n",
      " [6 7 4 5 3 9 1 2 8]\n",
      " [8 3 2 1 6 4 5 7 9]\n",
      " [1 9 5 7 8 2 4 3 6]]\n"
     ]
    }
   ],
   "source": [
    "print(solution)"
   ]
  },
  {
   "cell_type": "markdown",
   "id": "eba14c18-c58c-4d38-aa40-03ff2a16ac13",
   "metadata": {},
   "source": [
    "### Задание 2.2. Написание тестов\n",
    "* Используя библиотеку `ipytest`, напиши тесты, которые проверяют корректность работы решения Судоку\n",
    "* Каждый тест должен содержать [docstring](https://peps.python.org/pep-0257/), в котором кратко описано, какое правило Судоку он проверяет\n",
    "* Один тест должен проверять одно правило Судоку"
   ]
  },
  {
   "cell_type": "code",
   "execution_count": 31,
   "id": "2201b4e2-f506-452b-8d35-ade2b75b4c79",
   "metadata": {},
   "outputs": [],
   "source": [
    "def solve_sudoku(board):\n",
    "    \"\"\"Решает судоку с помощью backtracking\"\"\"\n",
    "    for i in range(9):\n",
    "        for j in range(9):\n",
    "            if board[i, j] == 0:\n",
    "                for num in range(1, 10):\n",
    "                    board[i, j] = num\n",
    "                    if is_partial_valid(board, i, j):\n",
    "                        if solve_sudoku(board):\n",
    "                            return True\n",
    "                    board[i, j] = 0\n",
    "                return False\n",
    "    return True"
   ]
  },
  {
   "cell_type": "code",
   "execution_count": 32,
   "id": "a565d882-f849-41c1-8e6b-f1d6343fdef9",
   "metadata": {},
   "outputs": [],
   "source": [
    "def is_valid_sudoku(board):\n",
    "    \"\"\"Проверяет корректность заполненного поля судоку\"\"\"\n",
    "    for i in range(9):\n",
    "        row = board[i, :]\n",
    "        col = board[:, i]\n",
    "        if len(np.unique(row)) != 9 or len(np.unique(col)) != 9:\n",
    "            return False\n",
    "    for r in range(0, 9, 3):\n",
    "        for c in range(0, 9, 3):\n",
    "            block = board[r:r+3, c:c+3].flatten()\n",
    "            if len(np.unique(block)) != 9:\n",
    "                return False\n",
    "    return True"
   ]
  },
  {
   "cell_type": "code",
   "execution_count": 33,
   "id": "69f5c3bd-9f81-48b3-be13-b8ec0549dba8",
   "metadata": {},
   "outputs": [],
   "source": [
    "def is_partial_valid(board, row, col):\n",
    "    \"\"\"Проверяет корректность текущего частичного заполнения\"\"\"\n",
    "    num = board[row, col]\n",
    "    # Проверка строки и столбца\n",
    "    if np.count_nonzero(board[row, :] == num) > 1:\n",
    "        return False\n",
    "    if np.count_nonzero(board[:, col] == num) > 1:\n",
    "        return False\n",
    "    # Проверка блока\n",
    "    start_row, start_col = 3*(row//3), 3*(col//3)\n",
    "    block = board[start_row:start_row+3, start_col:start_col+3]\n",
    "    if np.count_nonzero(block == num) > 1:\n",
    "        return False\n",
    "    return True"
   ]
  },
  {
   "cell_type": "code",
   "execution_count": 34,
   "id": "1d80e0e9-a518-42b8-b608-f0eb714b0e42",
   "metadata": {},
   "outputs": [
    {
     "name": "stdout",
     "output_type": "stream",
     "text": [
      "\u001b[32m.\u001b[0m\u001b[32m.\u001b[0m\u001b[32m.\u001b[0m\u001b[32m                                                                                          [100%]\u001b[0m\n",
      "\u001b[32m\u001b[32m\u001b[1m3 passed\u001b[0m\u001b[32m in 0.08s\u001b[0m\u001b[0m\n"
     ]
    },
    {
     "data": {
      "text/plain": [
       "<ExitCode.OK: 0>"
      ]
     },
     "execution_count": 34,
     "metadata": {},
     "output_type": "execute_result"
    }
   ],
   "source": [
    "import ipytest\n",
    "ipytest.autoconfig()\n",
    "\n",
    "def test_sudoku_solution():\n",
    "    board = np.array([\n",
    "        [5,3,0,0,7,0,0,0,0],\n",
    "        [6,0,0,1,9,5,0,0,0],\n",
    "        [0,9,8,0,0,0,0,6,0],\n",
    "        [8,0,0,0,6,0,0,0,3],\n",
    "        [4,0,0,8,0,3,0,0,1],\n",
    "        [7,0,0,0,2,0,0,0,6],\n",
    "        [0,6,0,0,0,0,2,8,0],\n",
    "        [0,0,0,4,1,9,0,0,5],\n",
    "        [0,0,0,0,8,0,0,7,9]\n",
    "    ])\n",
    "    solved_board = board.copy()\n",
    "    assert solve_sudoku(solved_board)\n",
    "    assert is_valid_sudoku(solved_board)\n",
    "\n",
    "def test_empty_board():\n",
    "    board = np.zeros((9,9), dtype=int)\n",
    "    solved_board = board.copy()\n",
    "    assert solve_sudoku(solved_board)\n",
    "    assert is_valid_sudoku(solved_board)\n",
    "\n",
    "def test_partial_board():\n",
    "    board = np.zeros((9,9), dtype=int)\n",
    "    board[0,0] = 1\n",
    "    board[1,1] = 2\n",
    "    solved_board = board.copy()\n",
    "    assert solve_sudoku(solved_board)\n",
    "    assert is_valid_sudoku(solved_board)\n",
    "\n",
    "ipytest.run()"
   ]
  },
  {
   "cell_type": "markdown",
   "id": "adad82ca-829a-41a6-ae55-390c29aa6bdb",
   "metadata": {},
   "source": [
    "### Задание 2.3. Реализация алгоритма решения\n",
    "* Напиши алгоритм решения Судоку. Можно использовать **brute-force (backtracking)**. Алгоритм должен заполнять все пустые клетки числами от 1 до 9, соблюдая правила Судоку для строк, столбцов и 3×3 блоков\n",
    "* Проверь работу алгоритма с помощью ранее написанных тестов и убедись, что они покрывают все крайние случаи\n",
    "* Получи через [YouDoSudoku API](https://www.youdosudoku.com/) по 5 примеров Судоку разной сложности, реши их своим алгоритмом и выведи на экран как исходные поля, так и решения. Проверь, что решения корректны"
   ]
  },
  {
   "cell_type": "code",
   "execution_count": 35,
   "id": "c2da47ad-9bff-4b6c-a1aa-8a5468b5a013",
   "metadata": {},
   "outputs": [
    {
     "name": "stdout",
     "output_type": "stream",
     "text": [
      "\n",
      "Пример 1 решение:\n",
      "[[ True  True  True  True  True  True  True  True  True]\n",
      " [ True  True  True  True  True  True  True  True  True]\n",
      " [ True  True  True  True  True  True  True  True  True]\n",
      " [ True  True  True  True  True  True  True  True  True]\n",
      " [ True  True  True  True  True  True  True  True  True]\n",
      " [ True  True  True  True  True  True  True  True  True]\n",
      " [ True  True  True  True  True  True  True  True  True]\n",
      " [ True  True  True  True  True  True  True  True  True]\n",
      " [ True  True  True  True  True  True  True  True  True]]\n",
      "\n",
      "Пример 2 решение:\n",
      "[[ True  True  True  True  True  True  True  True  True]\n",
      " [ True  True  True  True  True  True  True  True  True]\n",
      " [ True  True  True  True  True  True  True  True  True]\n",
      " [ True  True  True  True  True  True  True  True  True]\n",
      " [ True  True  True  True  True  True  True  True  True]\n",
      " [ True  True  True  True  True  True  True  True  True]\n",
      " [ True  True  True  True  True  True  True  True  True]\n",
      " [ True  True  True  True  True  True  True  True  True]\n",
      " [ True  True  True  True  True  True  True  True  True]]\n",
      "\n",
      "Пример 3 решение:\n",
      "[[ True  True  True  True  True  True  True  True  True]\n",
      " [ True  True  True  True  True  True  True  True  True]\n",
      " [ True  True  True  True  True  True  True  True  True]\n",
      " [ True  True  True  True  True  True  True  True  True]\n",
      " [ True  True  True  True  True  True  True  True  True]\n",
      " [ True  True  True  True  True  True  True  True  True]\n",
      " [ True  True  True  True  True  True  True  True  True]\n",
      " [ True  True  True  True  True  True  True  True  True]\n",
      " [ True  True  True  True  True  True  True  True  True]]\n",
      "\n",
      "Пример 4 решение:\n",
      "[[ True  True  True  True  True  True  True  True  True]\n",
      " [ True  True  True  True  True  True  True  True  True]\n",
      " [ True  True  True  True  True  True  True  True  True]\n",
      " [ True  True  True  True  True  True  True  True  True]\n",
      " [ True  True  True  True  True  True  True  True  True]\n",
      " [ True  True  True  True  True  True  True  True  True]\n",
      " [ True  True  True  True  True  True  True  True  True]\n",
      " [ True  True  True  True  True  True  True  True  True]\n",
      " [ True  True  True  True  True  True  True  True  True]]\n",
      "\n",
      "Пример 5 решение:\n",
      "[[ True  True  True  True  True  True  True  True  True]\n",
      " [ True  True  True  True  True  True  True  True  True]\n",
      " [ True  True  True  True  True  True  True  True  True]\n",
      " [ True  True  True  True  True  True  True  True  True]\n",
      " [ True  True  True  True  True  True  True  True  True]\n",
      " [ True  True  True  True  True  True  True  True  True]\n",
      " [ True  True  True  True  True  True  True  True  True]\n",
      " [ True  True  True  True  True  True  True  True  True]\n",
      " [ True  True  True  True  True  True  True  True  True]]\n"
     ]
    }
   ],
   "source": [
    "for i in range(5):\n",
    "    board, sol = get_sudoku(\"hard\")\n",
    "    board_to_solve = board.copy()\n",
    "    solve_sudoku(board_to_solve)\n",
    "    print(f\"\\nПример {i+1} решение:\")\n",
    "    print(board_to_solve == sol)"
   ]
  },
  {
   "cell_type": "markdown",
   "id": "cb9432e0-bab9-4246-9318-1945c09b0ac2",
   "metadata": {},
   "source": [
    "## Бонусное задание: TF-IDF"
   ]
  },
  {
   "cell_type": "markdown",
   "id": "fa87ff48-747f-4183-ba11-745041842518",
   "metadata": {},
   "source": [
    "Построив **инвертированный индекс**, мы научились быстро находить документы, содержащие определённые слова. \n",
    "Однако этого недостаточно для реального поиска. Представьте, что вы ищете слово *«мир»* в романе *«Война и мир»*. \n",
    "Индекс вернёт сотни предложений, но не все они будут одинаково полезны.\n",
    "\n",
    "В поисковых системах важно не только найти документы, где встречается слово, но и **оценить, насколько это слово \n",
    "важно именно в данном документе**. Для этого используется одна из ключевых идей информационного поиска — \n",
    "**TF-IDF (Term Frequency – Inverse Document Frequency)**.\n",
    "\n",
    "* **TF** показывает, насколько часто слово встречается в документе.\n",
    "* **IDF** снижает вес слов, которые встречаются слишком часто в коллекции (например, «и», «он», «the»).\n",
    "* В итоге TF-IDF позволяет отличать «шумовые» слова от действительно значимых.\n"
   ]
  },
  {
   "cell_type": "markdown",
   "id": "cc35e1ca-9e53-4f08-b715-cc1853e8c368",
   "metadata": {},
   "source": [
    "#### Задание 3.1. Формула\n",
    "* Прочитай, как работает метод **TF-IDF**\n",
    "* Разберись, что означают:\n",
    "  * TF — частота слова в документе,\n",
    "  * IDF — обратная частота документа,\n",
    "  * TF-IDF — произведение этих величин.\n",
    "* Запиши формулу TF-IDF с помощью **Markdown-разметки**\n"
   ]
  },
  {
   "cell_type": "markdown",
   "id": "e971b17c-64de-485e-9d51-ccc27537fd9b",
   "metadata": {},
   "source": [
    "$$TF(t, d) = \\frac{f_{t,d}}{\\sum_{k} f_{k,d}}$$\n",
    "$$IDF(t, D) = \\log \\frac{N}{df_t}$$\n",
    "$$TF\\text{-}IDF(t, d, D) = TF(t, d) \\times IDF(t, D)$$"
   ]
  },
  {
   "cell_type": "code",
   "execution_count": null,
   "id": "32d9ebb9-e7d9-484e-b54c-9a568665f996",
   "metadata": {},
   "outputs": [],
   "source": []
  },
  {
   "cell_type": "code",
   "execution_count": 36,
   "id": "ff1a29c1-60f4-4da6-b2da-adb227703012",
   "metadata": {},
   "outputs": [],
   "source": [
    "import math\n",
    "from collections import defaultdict, Counter"
   ]
  },
  {
   "cell_type": "code",
   "execution_count": 57,
   "id": "73cfbe80-bdba-4aed-96ad-a69d3ed8d759",
   "metadata": {},
   "outputs": [],
   "source": [
    "class TfidfIndex(InvertedIndex):\n",
    "    \"\"\"Класс для вычисления TF-IDF\"\"\"\n",
    "\n",
    "    def _tf(self, document: List[str]) -> Dict[str, float]:\n",
    "        \"\"\"\n",
    "        Расчет term frequency (TF) для одного документа\n",
    "        \"\"\"\n",
    "        word_count = Counter(document)\n",
    "        total_words = len(document)\n",
    "        return {word: count / total_words for word, count in word_count.items()}\n",
    "\n",
    "    def _idf(self, documents: List[List[str]]) -> Dict[str, float]:\n",
    "        \"\"\"\n",
    "        Расчет inverse document frequency (IDF) для коллекции документов\n",
    "        \"\"\"\n",
    "        N = len(documents)\n",
    "        idf = {}\n",
    "        for word, doc_ids in self.word2doc.items():\n",
    "            df = len(doc_ids)\n",
    "            idf[word] = math.log(N / (1 + df))\n",
    "        return idf\n",
    "\n",
    "    def compute_tfidf(self, documents: List[List[str]]) -> Dict[int, Dict[str, float]]:\n",
    "        \"\"\"\n",
    "        Вычисление TF-IDF для всех слов во всех документах\n",
    "        \"\"\"\n",
    "        self.build_index(documents)  # строим индекс\n",
    "        idf = self._idf(documents)   # считаем IDF\n",
    "        tfidf = {}\n",
    "\n",
    "        for doc_id, words in enumerate(documents):\n",
    "            tf = self._tf(words)\n",
    "            tfidf[doc_id] = {word: tf[word] * idf[word] for word in tf}\n",
    "        return tfidf"
   ]
  },
  {
   "cell_type": "code",
   "execution_count": 58,
   "id": "4a0eb95c-14e5-4b38-bc3a-5a479a0d0112",
   "metadata": {},
   "outputs": [],
   "source": [
    "index = TfidfIndex()\n",
    "index.build_index(processed_sentences)"
   ]
  },
  {
   "cell_type": "code",
   "execution_count": 59,
   "id": "ca101409-38c1-45cc-9b04-1e67979ed27a",
   "metadata": {},
   "outputs": [
    {
     "data": {
      "text/plain": [
       "['лев', 'николаевич', 'толстой', 'война', 'мир']"
      ]
     },
     "execution_count": 59,
     "metadata": {},
     "output_type": "execute_result"
    }
   ],
   "source": [
    "processed_sentences[0]"
   ]
  },
  {
   "cell_type": "code",
   "execution_count": 60,
   "id": "e1529c59-73ad-41e3-bc87-c5f980f681a7",
   "metadata": {},
   "outputs": [
    {
     "data": {
      "text/plain": [
       "{'лев': 0.2, 'николаевич': 0.2, 'толстой': 0.2, 'война': 0.2, 'мир': 0.2}"
      ]
     },
     "execution_count": 60,
     "metadata": {},
     "output_type": "execute_result"
    }
   ],
   "source": [
    "index._tf(processed_sentences[0])"
   ]
  },
  {
   "cell_type": "code",
   "execution_count": 65,
   "id": "a189130d-6929-49f7-8fdc-0bdb60f3b423",
   "metadata": {},
   "outputs": [
    {
     "name": "stdout",
     "output_type": "stream",
     "text": [
      "Топ-5 слов по значению IDF:\n",
      "пьер: 3.070\n",
      "князь: 3.103\n",
      "наташа: 3.591\n",
      "андрей: 3.617\n",
      "княжна: 3.968\n"
     ]
    }
   ],
   "source": [
    "top_words = sorted(index._idf(processed_sentences).items(), key=lambda x: x[1], reverse=False)[:5]\n",
    "\n",
    "print(\"Топ-5 слов по значению IDF:\")\n",
    "for word, value in top_words:\n",
    "    print(f\"{word}: {value:.3f}\")"
   ]
  },
  {
   "cell_type": "code",
   "execution_count": 71,
   "id": "dafe0119-f94f-4b88-af06-39225962615c",
   "metadata": {},
   "outputs": [
    {
     "data": {
      "text/plain": [
       "['пьер', 'князь', 'наташа', 'андрей', 'княжна']"
      ]
     },
     "execution_count": 71,
     "metadata": {},
     "output_type": "execute_result"
    }
   ],
   "source": [
    "[word[0] for word in top_words]"
   ]
  },
  {
   "cell_type": "code",
   "execution_count": 76,
   "id": "65d4e17a-a4c4-4d1a-9377-5b649f85c3da",
   "metadata": {},
   "outputs": [],
   "source": [
    "result = index.compute_tfidf(processed_sentences)"
   ]
  },
  {
   "cell_type": "code",
   "execution_count": 80,
   "id": "bacd052a-dc8e-4c6b-bf1e-b5ae752b7248",
   "metadata": {},
   "outputs": [
    {
     "data": {
      "text/plain": [
       "1.221310069159073"
      ]
     },
     "execution_count": 80,
     "metadata": {},
     "output_type": "execute_result"
    }
   ],
   "source": [
    "result[0][\"война\"]"
   ]
  },
  {
   "cell_type": "code",
   "execution_count": 79,
   "id": "4b7de4ae-49d4-40a1-ad8b-a78e0719c38e",
   "metadata": {},
   "outputs": [
    {
     "data": {
      "text/plain": [
       "1.2541706794173282"
      ]
     },
     "execution_count": 79,
     "metadata": {},
     "output_type": "execute_result"
    }
   ],
   "source": [
    "result[0][\"мир\"]"
   ]
  },
  {
   "cell_type": "code",
   "execution_count": 74,
   "id": "110675d6-b164-4998-b27a-37dc5b3e7457",
   "metadata": {},
   "outputs": [
    {
     "name": "stdout",
     "output_type": "stream",
     "text": [
      "Документ 0:\n",
      "  л: 0.074\n",
      "  е: 0.170\n",
      "  в: 0.074\n",
      "Документ 1:\n",
      "  н: 0.051\n",
      "  и: 0.102\n",
      "  к: 0.092\n",
      "  о: 0.022\n",
      "  л: 0.022\n",
      "  а: 0.051\n",
      "  е: 0.051\n",
      "  в: 0.022\n",
      "  ч: 0.092\n",
      "Документ 2:\n",
      "  т: 0.262\n",
      "  о: 0.064\n",
      "  л: 0.032\n",
      "  с: 0.131\n",
      "  й: 0.073\n",
      "Документ 3:\n",
      "  в: 0.045\n",
      "  о: 0.045\n",
      "  й: 0.102\n",
      "  н: 0.102\n",
      "  а: 0.102\n",
      "Документ 4:\n",
      "  м: 0.305\n",
      "  и: 0.170\n",
      "  р: 0.305\n"
     ]
    }
   ],
   "source": [
    "for doc_id, values in result.items():\n",
    "    print(f\"Документ {doc_id}:\")\n",
    "    for word, score in values.items():\n",
    "        print(f\"  {word}: {score:.3f}\")"
   ]
  },
  {
   "cell_type": "code",
   "execution_count": null,
   "id": "915de774-60e4-4c06-b649-96e68be2a925",
   "metadata": {},
   "outputs": [],
   "source": []
  }
 ],
 "metadata": {
  "kernelspec": {
   "display_name": "Python 3 (ipykernel)",
   "language": "python",
   "name": "python3"
  },
  "language_info": {
   "codemirror_mode": {
    "name": "ipython",
    "version": 3
   },
   "file_extension": ".py",
   "mimetype": "text/x-python",
   "name": "python",
   "nbconvert_exporter": "python",
   "pygments_lexer": "ipython3",
   "version": "3.11.9"
  }
 },
 "nbformat": 4,
 "nbformat_minor": 5
}
