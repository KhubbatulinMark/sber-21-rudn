{
 "cells": [
  {
   "cell_type": "markdown",
   "id": "fffcbb2c-4423-4f1c-bc90-e1ac7fbaa456",
   "metadata": {},
   "source": [
    "# Проект 01 – Python "
   ]
  },
  {
   "cell_type": "markdown",
   "id": "c2d747fe-7b74-43e0-95b3-16525e9846ac",
   "metadata": {},
   "source": [
    "## Инвертированный индекс"
   ]
  },
  {
   "cell_type": "markdown",
   "id": "7e45e207-d01f-4f42-8086-132a784923a7",
   "metadata": {},
   "source": [
    "Информационный поиск (Information Retrieval) — это область компьютерных наук, которая изучает методы поиска нужной\n",
    "информации в больших коллекциях данных. Классический пример — поисковые системы в интернете, которые позволяют найти \n",
    "документы, статьи или веб-страницы по ключевым словам.\n",
    "\n",
    "Цель информационного поиска — не просто найти документы, содержащие слово, но и оценить их релевантность запросу \n",
    "пользователя. Одним из основных инструментов в информационном поиске является **инвертированный индекс**.\n",
    "\n",
    "**Инвертированный индекс** — это структура данных, которая для каждого уникального слова хранит список документов или \n",
    "частей текста, где это слово встречается. Проще говоря, он «переворачивает» данные: вместо списка документов с их \n",
    "словами создаётся список слов с привязкой к документам."
   ]
  },
  {
   "cell_type": "markdown",
   "id": "4979376e-8702-4b72-a62f-03ae784312ea",
   "metadata": {},
   "source": [
    "<center><img src=\"../misc/inverted_index_scheme.png\" alt=\"inverted_index_scheme.png\" width=\"600\"/>"
   ]
  },
  {
   "cell_type": "markdown",
   "id": "a808a4f3-8d7b-4ac1-80f2-b3bdd9a7d3d5",
   "metadata": {},
   "source": [
    "### Задание 1.1. Разделение на предложения\n",
    "* Считай текст книги **«Война и мир»** из `.txt` [файла](datasets/war_and_peace.txt)\n",
    "* Раздели текст на предложения по знакам `. ! ?`, удали пробелы и пустые строки\n",
    "* Посмотри на полученные предложения и приведи несколько примеров, когда разбиение некорреткное\n",
    "* Раздели текст на предложения с помощью библиотеки [razdel](https://github.com/natasha/razdel)\n",
    "* Выведи количество предложений, полученных с помощью `razdel`"
   ]
  },
  {
   "cell_type": "code",
   "execution_count": 1,
   "id": "22123d54-d402-4e2b-8405-cbd0f04a1af2",
   "metadata": {},
   "outputs": [],
   "source": [
    "import re"
   ]
  },
  {
   "cell_type": "code",
   "execution_count": 2,
   "id": "c524c524-b8bc-41a3-adbd-39f133ee052d",
   "metadata": {},
   "outputs": [],
   "source": [
    "book_path = \"../project-1/datasets/war_and_peace.txt\""
   ]
  },
  {
   "cell_type": "code",
   "execution_count": 3,
   "id": "26783b10-1482-4bb7-b847-7d3f3e054106",
   "metadata": {},
   "outputs": [],
   "source": [
    "with open(book_path, \"r\", encoding=\"utf-8\") as f:\n",
    "    text = f.read()"
   ]
  },
  {
   "cell_type": "code",
   "execution_count": 4,
   "id": "c8dfde1f-58b5-414b-80de-f58e4eac8ae1",
   "metadata": {},
   "outputs": [],
   "source": [
    "sentences = re.split(\"[.?!]\", text)\n",
    "sentences = [s.strip() for s in sentences if s.strip()]"
   ]
  },
  {
   "cell_type": "code",
   "execution_count": 5,
   "id": "f47cbfdf-35ba-4e30-a87d-2ecfdb0c50c9",
   "metadata": {},
   "outputs": [],
   "source": [
    "from razdel import sentenize"
   ]
  },
  {
   "cell_type": "code",
   "execution_count": 6,
   "id": "246cbf8b-13bb-4ff2-8854-5d43499e913f",
   "metadata": {},
   "outputs": [],
   "source": [
    "sentences = [s.text for s in sentenize(text)]"
   ]
  },
  {
   "cell_type": "code",
   "execution_count": 7,
   "id": "e6d6bc15-de62-4d05-b166-76ef1ad7e849",
   "metadata": {},
   "outputs": [
    {
     "data": {
      "text/plain": [
       "30255"
      ]
     },
     "execution_count": 7,
     "metadata": {},
     "output_type": "execute_result"
    }
   ],
   "source": [
    "len(sentences)"
   ]
  },
  {
   "cell_type": "markdown",
   "id": "ce90007f-58bf-46a5-a61e-88ed655a36b0",
   "metadata": {},
   "source": [
    "### Задание 1.2. Очистка текста\n",
    "* Очисти текст от знаков препинания и приведи все слова к **нижнему регистру**\n",
    "* Разбей каждое предложение на список слов\n",
    "* Удали **стоп-слова** из [файла](datasets/stop_words_russian.txt)\n",
    "* Удали все пустые предложения (те, что после очистки не содержат слов)\n",
    "* Выведи:\n",
    "  * **количество слов** в самом длинном предложении\n",
    "  * **общее количество предложений**, оставшихся после очистки."
   ]
  },
  {
   "cell_type": "code",
   "execution_count": 8,
   "id": "7a57b145-7526-486c-9a70-38c8c76f40e3",
   "metadata": {},
   "outputs": [],
   "source": [
    "stopwords_path = \"../project-1/datasets/stop_words_russian.txt\""
   ]
  },
  {
   "cell_type": "code",
   "execution_count": 9,
   "id": "b43f74e2-5ef6-4599-9ec4-c12344022760",
   "metadata": {},
   "outputs": [],
   "source": [
    "with open(stopwords_path, \"r\", encoding=\"utf-8\") as f:\n",
    "    stopwords = set(word.strip() for word in f)"
   ]
  },
  {
   "cell_type": "code",
   "execution_count": 10,
   "id": "5aabcbcf-231d-4718-bd2f-8da7108256a4",
   "metadata": {},
   "outputs": [],
   "source": [
    "processed_sentences = []\n",
    "for sent in sentences:\n",
    "    # удалить всё, кроме букв и пробелов\n",
    "    clean_sent = re.sub(r\"[^а-яА-ЯёЁa-zA-Z ]\", \" \", sent)\n",
    "    # нижний регистр\n",
    "    clean_sent = clean_sent.lower()\n",
    "    # разбить на слова\n",
    "    words = clean_sent.split()\n",
    "    # удалить стоп-слова\n",
    "    words = [w for w in words if w not in stopwords]\n",
    "    if words:\n",
    "        processed_sentences.append(words)"
   ]
  },
  {
   "cell_type": "code",
   "execution_count": 11,
   "id": "605b8ec6-c8d3-451c-aa39-a451e967d54e",
   "metadata": {},
   "outputs": [
    {
     "data": {
      "text/plain": [
       "29620"
      ]
     },
     "execution_count": 11,
     "metadata": {},
     "output_type": "execute_result"
    }
   ],
   "source": [
    "len(processed_sentences)"
   ]
  },
  {
   "cell_type": "code",
   "execution_count": 12,
   "id": "eaa56628-9e22-4639-b82e-71c0c4efea95",
   "metadata": {},
   "outputs": [],
   "source": [
    "longest_sentence = max(processed_sentences, key=len)"
   ]
  },
  {
   "cell_type": "code",
   "execution_count": 13,
   "id": "8d157708-be00-4d08-9e03-7ed77d29f58c",
   "metadata": {},
   "outputs": [
    {
     "name": "stdout",
     "output_type": "stream",
     "text": [
      "Самое длинное предложение (количество слов: 136 ):\n"
     ]
    }
   ],
   "source": [
    "print(\"Самое длинное предложение (количество слов:\", len(longest_sentence), \"):\")"
   ]
  },
  {
   "cell_type": "code",
   "execution_count": 14,
   "id": "749454fc-1ff9-496a-b2d9-4e6c751e164e",
   "metadata": {},
   "outputs": [
    {
     "name": "stdout",
     "output_type": "stream",
     "text": [
      "граф растопчин стыдил уезжали вывозил присутственные места выдавал годное оружие пьяному сброду поднимал образа запрещал августину вывозить мощи иконы захватывал частные подводы бывшие москве ста тридцати шести подводах увозил делаемый леппихом воздушный шар намекал сожжет москву рассказывал сжег свой дом написал прокламацию французам торжественно упрекал разорили детский приют принимал славу сожжения москвы отрекался приказывал народу ловить шпионов приводить упрекал народ высылал французов москвы оставлял городе жу обер шальме составлявшую центр французского московского населения особой вины приказывал схватить увезти ссылку старого почтенного почт директора ключарева сбирал народ горы драться французами отделаться народа отдавал убийство человека уезжал задние ворота переживет несчастия москвы писал альбомы французски стихи своем участии деле понимал значения совершающегося события хотел сделать удивить совершить патриотически геройское мальчик резвился величавым неизбежным событием оставления сожжения москвы старался маленькой рукой поощрять задерживать течение громадного уносившего вместе народного потока\n"
     ]
    }
   ],
   "source": [
    "print(\" \".join(longest_sentence))"
   ]
  },
  {
   "cell_type": "markdown",
   "id": "5e86456a-7166-483e-84ec-ab460111ff64",
   "metadata": {},
   "source": [
    "### Задание 1.3. Построение инвертированного индекса\n",
    "Реализуй **инвертированный индекс** для поиска слов в предложениях с помощью класса `InvertedIndex`.\n",
    "\n",
    "**Что нужно сделать:**\n",
    "\n",
    "* Реализуй метод `build_index`, который строит индекс из списка документов, где каждый документ — это список слов.\n",
    "  * Для каждого уникального слова сохраняй список id документов (предложений), в которых оно встречается.\n",
    "  * Используй атрибут `word2doc` для хранения данных.\n",
    "* Реализуй метод `save_index`, чтобы **сохранять индекс в файл** (например, с помощью `pickle`) для последующего использования.\n",
    "* Реализуй метод `load_index`, чтобы **загружать индекс из файла**.\n",
    "* Реализуй метод `__len__`, который возвращает **количество уникальных слов** в индексе.\n",
    "\n",
    "**Протестируй работу индекса:**\n",
    "\n",
    "1. Построй индекс на списке предложений книги.\n",
    "2. **Сохрани** индекс в файл.\n",
    "3. **Загрузи** индекс из файла в **новый объект**.\n",
    "4. Выведи количество **уникальных слов** в загруженном индексе"
   ]
  },
  {
   "cell_type": "code",
   "execution_count": 15,
   "id": "53e895a0-d2de-4d88-af35-692af265368d",
   "metadata": {},
   "outputs": [],
   "source": [
    "from typing import List\n",
    "from collections import defaultdict"
   ]
  },
  {
   "cell_type": "code",
   "execution_count": 16,
   "id": "133d2a9f-1af6-4183-9d58-28b137de3289",
   "metadata": {},
   "outputs": [],
   "source": [
    "class InvertedIndex:\n",
    "    \"\"\"Класс для инвертированного индекса\"\"\"\n",
    "\n",
    "    def __init__(self):\n",
    "        self.word2doc = defaultdict(list)\n",
    "\n",
    "    def build_index(self, documents: List[str]):\n",
    "        \"\"\"\n",
    "        Построение инвертированного индекса из списка документов\n",
    "        documents: список, где каждый элемент — список слов в предложении\n",
    "        \"\"\"\n",
    "        pass\n",
    "\n",
    "    def save_index(self, filepath: str):\n",
    "        \"\"\"Сохранение индекса на диск\"\"\"\n",
    "        pass\n",
    "\n",
    "    def load_index(self, filepath: str):\n",
    "        \"\"\"Загрузка индекса с диска\"\"\"\n",
    "        pass"
   ]
  },
  {
   "cell_type": "code",
   "execution_count": 17,
   "id": "180f7343-7048-4744-9407-cbf5a273a19a",
   "metadata": {},
   "outputs": [],
   "source": [
    "import pickle"
   ]
  },
  {
   "cell_type": "code",
   "execution_count": 18,
   "id": "f5fc6052-2973-45f8-8824-4e329d8a7dfd",
   "metadata": {},
   "outputs": [],
   "source": [
    "class InvertedIndex:\n",
    "    \"\"\"Класс для инвертированного индекса\"\"\"\n",
    "\n",
    "    def __init__(self):\n",
    "        self.word2doc = defaultdict(list)\n",
    "\n",
    "    def __len__(self):\n",
    "        return len(self.word2doc)\n",
    "\n",
    "    def build_index(self, documents: List[List[str]]):\n",
    "        \"\"\"\n",
    "        Реализуй построение инвертированного индекса из списка документов.\n",
    "        documents: список, где каждый элемент — список слов в предложении.\n",
    "        \"\"\"\n",
    "        self.word2doc.clear()\n",
    "        for doc_id, words in enumerate(documents):\n",
    "            unique_words = set(words)\n",
    "            for word in unique_words:\n",
    "                self.word2doc[word].append(doc_id)\n",
    "\n",
    "    def query(self, words: List[str]) -> List[int]:\n",
    "        \"\"\"\n",
    "        Реализуй поиск предложений, содержащих все слова из списка words.\n",
    "        Возвращает список id предложений, отсортированный по возрастанию.\n",
    "        \"\"\"\n",
    "        if not words:\n",
    "            return []\n",
    "\n",
    "        # Начинаем с множества документов первого слова\n",
    "        result_set = set(self.word2doc.get(words[0], []))\n",
    "        for word in words[1:]:\n",
    "            result_set &= set(self.word2doc.get(word, []))  # пересечение множеств\n",
    "\n",
    "        return sorted(result_set)\n",
    "\n",
    "    def save_index(self, filepath: str):\n",
    "        \"\"\"Реализуй сохранение индекса на диск\"\"\"\n",
    "        with open(filepath, \"wb\") as f:\n",
    "            pickle.dump(self.word2doc, f)\n",
    "\n",
    "    def load_index(self, filepath: str):\n",
    "        \"\"\"Реализуй загрузку индекса с диска\"\"\"\n",
    "        with open(filepath, \"rb\") as f:\n",
    "            self.word2doc = pickle.load(f)"
   ]
  },
  {
   "cell_type": "code",
   "execution_count": null,
   "id": "1f45e58f-52c2-42c9-8874-d3ff0bda128a",
   "metadata": {},
   "outputs": [],
   "source": [
    "index = InvertedIndex()\n",
    "index.build_index(processed_sentences)"
   ]
  },
  {
   "cell_type": "code",
   "execution_count": null,
   "id": "fd1866bd-f98b-44b5-8036-40ee990668b0",
   "metadata": {},
   "outputs": [],
   "source": [
    "index.save_index(\"index.pkl\")"
   ]
  },
  {
   "cell_type": "code",
   "execution_count": null,
   "id": "19f99331-c0f5-413e-8745-3b05648ee271",
   "metadata": {},
   "outputs": [],
   "source": [
    "index2 = InvertedIndex()"
   ]
  },
  {
   "cell_type": "code",
   "execution_count": null,
   "id": "aef889df-84dc-4361-9d6a-4d532f2780f9",
   "metadata": {},
   "outputs": [],
   "source": [
    "index2.load_index(\"index.pkl\")"
   ]
  },
  {
   "cell_type": "code",
   "execution_count": null,
   "id": "e9430586-bb14-4ce6-ae8e-51623b3e9fe0",
   "metadata": {},
   "outputs": [],
   "source": [
    "len(index2)"
   ]
  },
  {
   "cell_type": "markdown",
   "id": "668c905f-9692-4ab8-8937-e9c6f67f8acf",
   "metadata": {},
   "source": [
    "### Задание 1.4. Поиск по индексу\n",
    "* Реализуй метод `query` класса `InvertedIndex`, который выполняет поиск слов в индексе.\n",
    "* Метод принимает **список слов** и возвращает список id предложений, в которых встречаются **все указанные слова** (операция «и»).\n",
    "* Результат должен быть **отсортирован по возрастанию** id предложения.\n",
    "* Проверь работу метода `query` на следующих примерах:\n",
    "  * Слово: `университет`\n",
    "  * Слова: `война` и `мир`\n",
    "  * Слово: `школа`"
   ]
  },
  {
   "cell_type": "code",
   "execution_count": null,
   "id": "a7f9c3eb-3d6a-4499-a419-e2cac1d166c6",
   "metadata": {},
   "outputs": [],
   "source": [
    "index2.query([\"война\", \"мир\"])"
   ]
  },
  {
   "cell_type": "code",
   "execution_count": null,
   "id": "a0ffca67-0e2d-42e0-8107-776abf0ee5a3",
   "metadata": {},
   "outputs": [],
   "source": [
    "index2.query([\"университет\"])"
   ]
  },
  {
   "cell_type": "code",
   "execution_count": null,
   "id": "1d1fe9e6-88f9-417e-8df6-f8cb6804a5eb",
   "metadata": {},
   "outputs": [],
   "source": [
    "index2.query([\"школа\"])"
   ]
  },
  {
   "cell_type": "markdown",
   "id": "d34e84e1-dee4-4f8f-abe3-3d9b88a5f58d",
   "metadata": {},
   "source": [
    "## Решатель и генератор судоку"
   ]
  },
  {
   "cell_type": "markdown",
   "id": "bb7945e8-ce22-4e6f-8714-4f0a5e81ccc5",
   "metadata": {},
   "source": [
    "В этом задании ты научишься работать с матрицами и попрактикуешься в использовании библиотеки **NumPy**. \n",
    "Мы будем писать простой генератор и валидатор головоломок судоку."
   ]
  },
  {
   "cell_type": "markdown",
   "id": "ad2b04f6-fd7e-412c-ac0c-a9d3c85f603f",
   "metadata": {},
   "source": [
    "#### Задание 2.1. Генератор судоку\n",
    "1. Сначала сгенерируй случайную матрицу 9×9 с числами от 1 до 9 и проверь её на корректность с помощью функции `validate_sudoku`.\n",
    "   * Валидация должна проверять:\n",
    "     * нет повторов чисел в строках,\n",
    "     * нет повторов чисел в столбцах,\n",
    "     * нет повторов чисел в блоках 3×3.\n",
    "2. Напиши несколько функций для модификации матрицы:\n",
    "   * `transpose(matrix)` — транспонирует матрицу,\n",
    "   * `swap_rows(matrix)` — случайным образом меняет местами строки внутри одного блока 3×3,\n",
    "   * `swap_columns(matrix)` — случайным образом меняет местами столбцы внутри одного блока 3×3.\n",
    "3. Возьми базовую корректную матрицу судоку и примени к ней случайную последовательность этих операций, чтобы получить новую корректную матрицу.\n",
    "   После этого удали случайные клетки (замени их на нули или `None`), чтобы получилась заготовка для головоломки.\n",
    "4. Проверь получившуюся матрицу функцией `validate_sudoku` и выведи результат."
   ]
  },
  {
   "cell_type": "code",
   "execution_count": null,
   "id": "ec5e2ec6-aad3-4d0b-a218-d8a260ab1807",
   "metadata": {},
   "outputs": [],
   "source": []
  },
  {
   "cell_type": "markdown",
   "id": "24d75211-6d32-4662-aa7a-c6bf3f66ed70",
   "metadata": {},
   "source": [
    "### Задание 3.2. Солвер для судоку\n",
    "Теперь, когда ты научился генерировать и проверять матрицы, пора написать **решатель судоку**. \n",
    "Это задание поможет тебе попрактиковаться в алгоритмах перебора и рекурсии, а также закрепить работу с тестами.\n",
    "\n",
    "1. **Напиши функцию-решатель** для судоку 9×9.\n",
    "   * Можно использовать алгоритм перебора (backtracking).\n",
    "   * На вход функция получает матрицу с числами от 1 до 9 и пустыми клетками (0).\n",
    "   * На выходе возвращает полностью решённую матрицу.\n",
    "\n",
    "2. **Проверь корректность работы решателя.**\n",
    "   * Напиши минимум **3 юнит-теста** с помощью библиотеки `pytest`.\n",
    "   * Тесты должны проверять, что твой решатель находит правильное решение для разных входных матриц.\n",
    "\n",
    "3. **Сравни решение с API.**\n",
    "   * Используй API [youdosudoku.com](https://www.youdosudoku.com/) для генерации игры в судоку.\n",
    "   * Запроси новое поле размером 9×9 с простой сложностью.\n",
    "   * Прогони его через свой решатель.\n",
    "   * Сравни результат с решением, которое возвращает API.\n",
    "4. Выведи результат проверки в консоль: совпадает ли решение твоего солвера с эталонным решением."
   ]
  },
  {
   "cell_type": "code",
   "execution_count": null,
   "id": "a8899632-eb01-476f-815e-9e65a8ae8ddc",
   "metadata": {},
   "outputs": [],
   "source": []
  }
 ],
 "metadata": {
  "kernelspec": {
   "display_name": "Python 3 (ipykernel)",
   "language": "python",
   "name": "python3"
  },
  "language_info": {
   "codemirror_mode": {
    "name": "ipython",
    "version": 3
   },
   "file_extension": ".py",
   "mimetype": "text/x-python",
   "name": "python",
   "nbconvert_exporter": "python",
   "pygments_lexer": "ipython3",
   "version": "3.11.9"
  }
 },
 "nbformat": 4,
 "nbformat_minor": 5
}
