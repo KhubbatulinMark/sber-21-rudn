{
 "cells": [
  {
   "cell_type": "markdown",
   "metadata": {},
   "source": [
    "# Задание"
   ]
  },
  {
   "cell_type": "code",
   "execution_count": null,
   "metadata": {},
   "outputs": [],
   "source": [
    "import pandas as pd"
   ]
  },
  {
   "cell_type": "code",
   "execution_count": null,
   "metadata": {},
   "outputs": [],
   "source": [
    "data = pd.read_csv('../DS_02.ID_1187045/datasets/kaggle_survey_2022_responses.csv') # Указываем путь к файлу"
   ]
  },
  {
   "cell_type": "code",
   "execution_count": null,
   "metadata": {},
   "outputs": [],
   "source": [
    "name2question = data.iloc[0]\n",
    "data.drop(0, inplace=True)"
   ]
  },
  {
   "cell_type": "markdown",
   "metadata": {},
   "source": [
    "## Задание 1"
   ]
  },
  {
   "cell_type": "code",
   "execution_count": null,
   "metadata": {},
   "outputs": [],
   "source": [
    "most_common_age = data['Q2'].value_counts().index[0]"
   ]
  },
  {
   "cell_type": "code",
   "execution_count": null,
   "metadata": {},
   "outputs": [],
   "source": [
    "most_common_age"
   ]
  },
  {
   "cell_type": "markdown",
   "metadata": {},
   "source": [
    "## Задание 2"
   ]
  },
  {
   "cell_type": "code",
   "execution_count": null,
   "metadata": {},
   "outputs": [],
   "source": [
    "name2question['Q5']"
   ]
  },
  {
   "cell_type": "code",
   "execution_count": null,
   "metadata": {},
   "outputs": [],
   "source": [
    "round(data[\n",
    "    (data['Q4'].str.contains('Russia')) &\n",
    "    (data['Q5'] == 'No')\n",
    "]['Q3'].value_counts(normalize=True)['Woman'], 2)"
   ]
  },
  {
   "cell_type": "markdown",
   "metadata": {},
   "source": [
    "## Задание 3"
   ]
  },
  {
   "cell_type": "code",
   "execution_count": null,
   "metadata": {},
   "outputs": [],
   "source": [
    "data['Duration (in seconds)'] = data['Duration (in seconds)'].astype(int)\n",
    "mean_time = round(data['Duration (in seconds)'].mean() / 60, 2)\n",
    "mean_time"
   ]
  },
  {
   "cell_type": "markdown",
   "metadata": {},
   "source": [
    "## Задание 4"
   ]
  },
  {
   "cell_type": "code",
   "execution_count": null,
   "metadata": {},
   "outputs": [],
   "source": [
    "q6_columns = [col for col in data.columns if col.startswith('Q6')]\n",
    "q6_columns"
   ]
  },
  {
   "cell_type": "code",
   "execution_count": null,
   "metadata": {},
   "outputs": [],
   "source": [
    "courses = data[q6_columns].melt(var_name='вопрос', value_vars=q6_columns)"
   ]
  },
  {
   "cell_type": "code",
   "execution_count": null,
   "metadata": {},
   "outputs": [],
   "source": [
    "courses = data[q6_columns].melt(var_name='вопрос', value_vars=q6_columns)\n",
    "courses = courses.value_counts().reset_index().iloc[:3]['value'].to_list()\n",
    "courses"
   ]
  },
  {
   "cell_type": "markdown",
   "metadata": {},
   "source": [
    "## Задание 5"
   ]
  },
  {
   "cell_type": "code",
   "execution_count": null,
   "metadata": {},
   "outputs": [],
   "source": [
    "name2question['Q23']"
   ]
  },
  {
   "cell_type": "code",
   "execution_count": null,
   "metadata": {},
   "outputs": [],
   "source": [
    "name2question['Q12_1']"
   ]
  },
  {
   "cell_type": "code",
   "execution_count": null,
   "metadata": {},
   "outputs": [],
   "source": [
    "q12_columns = [col for col in data.columns if col.startswith('Q12')]"
   ]
  },
  {
   "cell_type": "code",
   "execution_count": null,
   "metadata": {},
   "outputs": [],
   "source": [
    "lang = data[\n",
    "    data['Q23'] == 'Data Scientist'\n",
    "][q12_columns].melt(var_name='вопрос', value_vars=q12_columns)"
   ]
  },
  {
   "cell_type": "code",
   "execution_count": null,
   "metadata": {},
   "outputs": [],
   "source": [
    "lang = lang.value_counts().reset_index().iloc[:5]['value'].to_list()\n",
    "lang"
   ]
  },
  {
   "cell_type": "markdown",
   "metadata": {},
   "source": [
    "## Задание 6"
   ]
  },
  {
   "cell_type": "code",
   "execution_count": null,
   "metadata": {},
   "outputs": [],
   "source": [
    "name2question['Q23']"
   ]
  },
  {
   "cell_type": "code",
   "execution_count": null,
   "metadata": {},
   "outputs": [],
   "source": [
    "name2question['Q29']"
   ]
  },
  {
   "cell_type": "code",
   "execution_count": null,
   "metadata": {},
   "outputs": [],
   "source": [
    "data['Q23'].value_counts()"
   ]
  },
  {
   "cell_type": "code",
   "execution_count": null,
   "metadata": {},
   "outputs": [],
   "source": [
    "data['Q29'].value_counts()"
   ]
  },
  {
   "cell_type": "code",
   "execution_count": null,
   "metadata": {},
   "outputs": [],
   "source": [
    "import numpy as np"
   ]
  },
  {
   "cell_type": "code",
   "execution_count": null,
   "metadata": {},
   "outputs": [],
   "source": [
    "def get_mean(row):\n",
    "    if row is np.nan:\n",
    "        return row\n",
    "    row = row.split('-')\n",
    "    row = [number.replace('$', '') for number in row]\n",
    "    row = [round(int(number.replace('>', '')), -1) for number in row]\n",
    "    if len(row) == 2:\n",
    "        return np.mean(row)\n",
    "    elif len(row) == 1:\n",
    "        return row[0]"
   ]
  },
  {
   "cell_type": "code",
   "execution_count": null,
   "metadata": {},
   "outputs": [],
   "source": [
    "data['Q29_NEW'] = data['Q29'].str.replace(',', '', regex=True).apply(func=get_mean)"
   ]
  },
  {
   "cell_type": "code",
   "execution_count": null,
   "metadata": {},
   "outputs": [],
   "source": [
    "data[['Q23', 'Q29_NEW']].groupby('Q23').mean().round()"
   ]
  },
  {
   "cell_type": "code",
   "execution_count": null,
   "metadata": {},
   "outputs": [],
   "source": [
    "data['zp_average'].value_counts()"
   ]
  },
  {
   "cell_type": "code",
   "execution_count": null,
   "metadata": {},
   "outputs": [],
   "source": [
    "data['Q29_NEW'].value_counts()"
   ]
  },
  {
   "cell_type": "code",
   "execution_count": null,
   "metadata": {},
   "outputs": [],
   "source": [
    "zp_mapping = {\n",
    "    '$0-999': 500, \n",
    "    '10,000-14,999': 12500, \n",
    "    '30,000-39,999': 35000, \n",
    "    '1,000-1,999': 1500, \n",
    "    '40,000-49,999': 45000, \n",
    "    '100,000-124,999' : 112500, \n",
    "    '5,000-7,499' : 6250, \n",
    "    '50,000-59,999' : 55000, \n",
    "    '7,500-9,999' : 8750, \n",
    "    '150,000-199,999' : 175000, \n",
    "    '20,000-24,999' : 22500, \n",
    "    '60,000-69,999' : 65000, \n",
    "    '15,000-19,999' : 17500, \n",
    "    '70,000-79,999' : 75000, \n",
    "    '25,000-29,999' : 27500, \n",
    "    '2,000-2,999' : 2500, \n",
    "    '125,000-149,999' : 137500, \n",
    "    '3,000-3,999' : 3500, \n",
    "    '4,000-4,999' : 4500, \n",
    "    '80,000-89,999' : 85000, \n",
    "    '90,000-99,999' : 95000, \n",
    "    '200,000-249,999' : 225000, \n",
    "    '250,000-299,999' : 275000, \n",
    "    '300,000-499,999' : 400000, \n",
    "    '500,000-999,999' : 750000, \n",
    "    '>$1,000,000' : 1000000 \n",
    "}\n",
    "data['zp_average'] = data['Q29'].map(zp_mapping) \n",
    "data['zp_average'].value_counts().head(10) \n",
    "data.groupby(['Q23']).mean().sort_values('zp_average', ascending = False ).round()"
   ]
  },
  {
   "cell_type": "code",
   "execution_count": null,
   "metadata": {},
   "outputs": [],
   "source": [
    "data[\n",
    "    data['Q29'] == '500,000-999,999'\n",
    "]"
   ]
  },
  {
   "cell_type": "code",
   "execution_count": null,
   "metadata": {},
   "outputs": [],
   "source": []
  }
 ],
 "metadata": {
  "kernelspec": {
   "display_name": "Python 3 (ipykernel)",
   "language": "python",
   "name": "python3"
  },
  "language_info": {
   "codemirror_mode": {
    "name": "ipython",
    "version": 3
   },
   "file_extension": ".py",
   "mimetype": "text/x-python",
   "name": "python",
   "nbconvert_exporter": "python",
   "pygments_lexer": "ipython3",
   "version": "3.9.6"
  }
 },
 "nbformat": 4,
 "nbformat_minor": 4
}
