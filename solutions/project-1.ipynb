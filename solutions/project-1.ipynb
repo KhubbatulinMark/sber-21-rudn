{
 "cells": [
  {
   "cell_type": "code",
   "execution_count": 1,
   "id": "60162b61-0395-4a95-abb8-7be6db2af217",
   "metadata": {},
   "outputs": [],
   "source": [
    "from PIL import Image"
   ]
  },
  {
   "cell_type": "code",
   "execution_count": null,
   "id": "8b47ec28-f6a1-49e7-8387-d3d95cb6c323",
   "metadata": {},
   "outputs": [],
   "source": [
    "cv2.imwrite(\"glasses.png\", glasses)"
   ]
  },
  {
   "cell_type": "code",
   "execution_count": null,
   "id": "8c592845-8348-4d97-b5df-7a4068364359",
   "metadata": {},
   "outputs": [],
   "source": [
    "import cv2\n",
    "\n",
    "face_cascade = cv2.CascadeClassifier(cv2.data.haarcascades + \"haarcascade_frontalface_default.xml\")\n",
    "eye_cascade = cv2.CascadeClassifier(cv2.data.haarcascades + \"haarcascade_eye.xml\")\n",
    "\n",
    "glasses = cv2.imread(\"../datasets/glasses.png\")  # обычная загрузка\n",
    "gray_glasses = cv2.cvtColor(glasses, cv2.COLOR_BGR2GRAY)\n",
    "_, mask = cv2.threshold(gray_glasses, 250, 255, cv2.THRESH_BINARY_INV)\n",
    "\n",
    "# # добавляем альфа-канал\n",
    "glasses = cv2.cvtColor(glasses, cv2.COLOR_BGR2BGRA)\n",
    "glasses[:, :, 3] = mask\n",
    "\n",
    "# Загружаем изображение\n",
    "image = cv2.imread(\"2.jpg\")\n",
    "image = cv2.cvtColor(image, cv2.COLOR_BGR2RGB)\n",
    "\n",
    "# Находим лица\n",
    "faces = face_cascade.detectMultiScale(image, scaleFactor=1.1, minNeighbors=5, minSize=(150, 150))\n",
    "frames = []\n",
    "\n",
    "for (x, y, w, h) in faces:\n",
    "    # Отрисовываем прямоугольник вокруг лица\n",
    "    cv2.rectangle(image, (x, y), (x + w, y + h), (255, 0, 0), 2)\n",
    "    \n",
    "    # Вырезаем область лица для поиска глаз\n",
    "    roi_color = image[y:y + h, x:x + w]\n",
    "    \n",
    "    # Находим глаза\n",
    "    eyes = eye_cascade.detectMultiScale(roi_color)\n",
    "    print(eyes)\n",
    "    for (ex, ey, ew, eh) in eyes:\n",
    "        cv2.rectangle(image, (x + ex, y + ey), (x + ex + ew, y + ey + eh), (0, 255, 0), 2)\n",
    "        \n",
    "    # if len(eyes) >= 2:\n",
    "    #     # Берём два глаза (сортировка по X)\n",
    "    #     eyes = sorted(eyes, key=lambda ex: ex[0])[:2]\n",
    "\n",
    "    #     (ex1, ey1, ew1, eh1) = eyes[0]\n",
    "    #     (ex2, ey2, ew2, eh2) = eyes[1]\n",
    "\n",
    "    #     # Центры глаз\n",
    "    #     eye_center1 = (ex1 + ew1 // 2, ey1 + eh1 // 2)\n",
    "    #     eye_center2 = (ex2 + ew2 // 2, ey2 + eh2 // 2)\n",
    "\n",
    "    #     # Ширина очков = расстояние между глазами * 2\n",
    "    #     glasses_width = int(abs(eye_center2[0] - eye_center1[0]) * 2)\n",
    "    #     glasses_height = int(glasses_width * glasses.shape[0] / glasses.shape[1])\n",
    "    #     print(glasses.shape)\n",
    "    #     # Масштабируем очки\n",
    "    #     resized_glasses = cv2.resize(glasses, (glasses_width, glasses_height))\n",
    "\n",
    "    #     # Координаты для вставки очков\n",
    "        # gx = min(eye_center1[0], eye_center2[0]) - glasses_width // 4 + 20\n",
    "        # gy = min(ey1, ey2) - glasses_height // 2 + 60\n",
    "\n",
    "\n",
    "        # gx = min(eye_center1[0], eye_center2[0]) - glasses_width // 4 + 20\n",
    "        # gy_final = min(ey1, ey2) - glasses_height // 2 + 60\n",
    "\n",
    "        # # Стартовые координаты (выше головы)\n",
    "        # gy_start = -glasses_height\n",
    "\n",
    "        # # Генерируем несколько кадров\n",
    "        # steps = 30\n",
    "        # for t in range(steps):\n",
    "        #     frame = image.copy()\n",
    "        #     gy = int(gy_start + (gy_final - gy_start) * (t / (steps - 1)))\n",
    "\n",
    "        #     roi_color = frame[y:y+h, x:x+w]\n",
    "\n",
    "        #     for i in range(glasses_height):\n",
    "        #         for j in range(glasses_width):\n",
    "        #             if 0 <= gy+i < roi_color.shape[0] and 0 <= gx+j < roi_color.shape[1]:\n",
    "        #                 alpha = resized_glasses[i, j, 3] / 255.0\n",
    "        #                 if alpha > 0:\n",
    "        #                     roi_color[gy+i, gx+j] = (1 - alpha) * roi_color[gy+i, gx+j] + alpha * resized_glasses[i, j, :3]\n",
    "\n",
    "        #     # Конвертация в RGB для PIL\n",
    "        #     frame_rgb = cv2.cvtColor(frame, cv2.COLOR_BGR2RGB)\n",
    "        #     frames.append(Image.fromarray(frame_rgb))\n",
    "        \n",
    "        # Накладываем очки с учётом альфа-канала\n",
    "        # for i in range(glasses_height):\n",
    "        #     for j in range(glasses_width):\n",
    "        #         if 0 <= gy+i < roi_color.shape[0] and 0 <= gx+j < roi_color.shape[1]:\n",
    "        #             # print(resized_glasses.shape)\n",
    "        #             alpha = resized_glasses[i, j, 3] / 255.0\n",
    "        #             if alpha > 0:\n",
    "        #                 roi_color[gy+i, gx+j] = (1 - alpha) * roi_color[gy+i, gx+j] + alpha * resized_glasses[i, j, :3]\n",
    "\n",
    "# Показываем результат\n",
    "cv2.imshow(\"Eyes Detection\", roi_color)"
   ]
  },
  {
   "cell_type": "code",
   "execution_count": null,
   "id": "38c4ef2e-ce45-4ea8-ac14-7d7b618d4b6d",
   "metadata": {},
   "outputs": [],
   "source": [
    "# frames[0].save(\n",
    "#     \"glasses_animation.gif\",\n",
    "#     save_all=True,\n",
    "#     append_images=frames[1:],\n",
    "#     duration=100,   # скорость анимации (мс на кадр)\n",
    "#     loop=0\n",
    "# )"
   ]
  },
  {
   "cell_type": "code",
   "execution_count": null,
   "id": "8b0d55fc-3c6d-4572-870d-b73aa9afb32c",
   "metadata": {},
   "outputs": [],
   "source": [
    "import matplotlib.pyplot as plt"
   ]
  },
  {
   "cell_type": "code",
   "execution_count": null,
   "id": "a9c382ac-7154-4a12-9d83-0603573d800f",
   "metadata": {},
   "outputs": [],
   "source": [
    "plt.imshow(image)"
   ]
  },
  {
   "cell_type": "code",
   "execution_count": null,
   "id": "5936695e-4833-4c06-9c07-dc2179dac438",
   "metadata": {},
   "outputs": [],
   "source": [
    "glasses = cv2.imread(\"3.jpg\")\n",
    "glasses = cv2.cvtColor(glasses, cv2.COLOR_BGR2RGB)"
   ]
  },
  {
   "cell_type": "code",
   "execution_count": null,
   "id": "26d63d25-ec56-41ac-a619-d1e48afe1768",
   "metadata": {},
   "outputs": [],
   "source": [
    "plt.imshow(glasses)"
   ]
  }
 ],
 "metadata": {
  "kernelspec": {
   "display_name": "Python 3 (ipykernel)",
   "language": "python",
   "name": "python3"
  },
  "language_info": {
   "codemirror_mode": {
    "name": "ipython",
    "version": 3
   },
   "file_extension": ".py",
   "mimetype": "text/x-python",
   "name": "python",
   "nbconvert_exporter": "python",
   "pygments_lexer": "ipython3",
   "version": "3.11.9"
  }
 },
 "nbformat": 4,
 "nbformat_minor": 5
}
