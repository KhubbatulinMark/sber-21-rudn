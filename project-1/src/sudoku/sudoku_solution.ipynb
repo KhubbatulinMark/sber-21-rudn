{
 "cells": [
  {
   "cell_type": "code",
   "execution_count": 1,
   "id": "c58b84bc-11ea-4822-bc27-050fa4b0eb11",
   "metadata": {},
   "outputs": [],
   "source": [
    "import numpy as np\n",
    "import requests\n",
    "import pytest\n",
    "import tqdm\n",
    "import ipytest"
   ]
  },
  {
   "cell_type": "code",
   "execution_count": 2,
   "id": "23767abe-0ae2-4488-b17b-402bbe6277ed",
   "metadata": {},
   "outputs": [],
   "source": [
    "ipytest.autoconfig()"
   ]
  },
  {
   "cell_type": "markdown",
   "id": "554e2ede-3532-40c3-b6aa-f0b74ecab7d6",
   "metadata": {},
   "source": [
    "# 4) Доп. задание. Судоку"
   ]
  },
  {
   "cell_type": "markdown",
   "id": "032041ee-7dc5-43cb-bd19-5c6649c307b2",
   "metadata": {},
   "source": [
    "В данном задании нужно будет реализовать солвер судоку, поработать с API и написать тесты"
   ]
  },
  {
   "cell_type": "markdown",
   "id": "56ff1f51-ddbf-430e-8eda-423a3d9b6282",
   "metadata": {},
   "source": [
    "Для начала научимся создавать матрицы 9x9 в numpy. Тебе в этом поможет модуль:\n",
    "[numpy.random](https://numpy.org/doc/2.0/reference/random/generated/numpy.random.randint.html)"
   ]
  },
  {
   "cell_type": "code",
   "execution_count": 3,
   "id": "f18010ff-d0c0-480a-8250-447a394aee65",
   "metadata": {},
   "outputs": [
    {
     "data": {
      "text/plain": [
       "array([[6, 3, 1, 7, 3, 4, 0, 6, 1],\n",
       "       [8, 3, 0, 0, 3, 6, 1, 5, 7],\n",
       "       [2, 2, 5, 7, 7, 2, 3, 5, 6],\n",
       "       [0, 5, 1, 1, 5, 1, 6, 6, 2],\n",
       "       [7, 4, 7, 6, 4, 3, 2, 6, 6],\n",
       "       [3, 7, 0, 0, 0, 6, 2, 7, 1],\n",
       "       [2, 1, 2, 6, 6, 2, 1, 5, 5],\n",
       "       [7, 8, 5, 0, 5, 6, 1, 3, 1],\n",
       "       [2, 2, 7, 3, 8, 8, 2, 6, 4]])"
      ]
     },
     "execution_count": 3,
     "metadata": {},
     "output_type": "execute_result"
    }
   ],
   "source": [
    "sudoku = np.random.randint(0, 9, size=(9, 9))\n",
    "sudoku"
   ]
  },
  {
   "cell_type": "markdown",
   "id": "7dab8dda-b117-4f7c-af06-4d4f193371f2",
   "metadata": {},
   "source": [
    "Теперь нужно проверить, что это матрица является [судоку](https://ru.wikipedia.org/wiki/%D0%A1%D1%83%D0%B4%D0%BE%D0%BA%D1%83)"
   ]
  },
  {
   "cell_type": "markdown",
   "id": "116f4dcd-e076-447a-8467-e9d2aaa646b2",
   "metadata": {},
   "source": [
    "## Валидация"
   ]
  },
  {
   "cell_type": "code",
   "execution_count": 4,
   "id": "b36b9100-2f98-41cd-b3a5-e1e1fc9f90bc",
   "metadata": {},
   "outputs": [],
   "source": [
    "def checker(matrix):\n",
    "    # Считаем кол-во элементов в строке, строчке или квадрате\n",
    "    values, counts = np.unique(matrix, return_counts=True) \n",
    "    for i in range(len(values)):\n",
    "        if values[i] != 0 and counts[i] != 1:\n",
    "            return False\n",
    "    return True\n",
    "\n",
    "\n",
    "def validate_sudoku(sudoku):\n",
    "    # Проверка строк\n",
    "    for row in range(9):\n",
    "        if not(checker(sudoku[row])):\n",
    "            return False\n",
    "            \n",
    "    # Проверка столбцов\n",
    "    for col in range(9):\n",
    "        if not(checker(sudoku[:, col])):\n",
    "            return False\n",
    "            \n",
    "    # Проверка квадратов\n",
    "    for row in range(0, 9, 3):\n",
    "        for col in range(0, 9, 3):\n",
    "            if not(checker(sudoku[row:row + 3, col: col + 3])):\n",
    "                return False\n",
    "    return True"
   ]
  },
  {
   "cell_type": "code",
   "execution_count": 5,
   "id": "5a62969f-a33e-4986-8042-d2b575436dcf",
   "metadata": {},
   "outputs": [],
   "source": [
    "# while not validate_sudoku(sudoku):\n",
    "    # sudoku = np.random.randint(0, 9, size=(9, 9))\n",
    "# sudoku"
   ]
  },
  {
   "cell_type": "markdown",
   "id": "70ade0f7-f013-4c8b-9f20-f22a7c9dfba9",
   "metadata": {},
   "source": [
    "Понятно, что код выше выполняется очень долго. Напишем более оптимизированный генератор матриц судоку.\n",
    "\n",
    "1) Сгенерируй матрицу, заполненную числами от 1 до 9, которая удовлетворяет validate_sudoku\n",
    "2) Напиши функции:\n",
    "  - Транспонирование матрицы\n",
    "  - Обмен строк\n",
    "  - Обмен столбцов\n",
    "3) Примени эти функции в случайном порядке на сгенерированную матрицу и удали случайные клетки из нее\n",
    "4) Проверь, является ли эта матрица судоку"
   ]
  },
  {
   "cell_type": "markdown",
   "id": "71cfb569-8b2e-4648-ab0f-a91e10722b46",
   "metadata": {},
   "source": [
    "## Генератор"
   ]
  },
  {
   "cell_type": "code",
   "execution_count": 6,
   "id": "92c7d59e-b854-4b13-be58-1c74b761b077",
   "metadata": {},
   "outputs": [],
   "source": [
    "def transpose(matrix):\n",
    "    return np.transpose(matrix)\n",
    "\n",
    "def swap_row(matrix, row1, row2):\n",
    "    matrix[row1], matrix[row2] = matrix[row2].copy(), matrix[row1].copy()\n",
    "    return matrix\n",
    "\n",
    "def swap_col(matrix, col1, col2):\n",
    "    matrix[:, col1], matrix[:, col2] = matrix[:, col2].copy(), matrix[:, col1].copy()\n",
    "    return matrix"
   ]
  },
  {
   "cell_type": "code",
   "execution_count": 7,
   "id": "66d4b745-775e-45de-9974-3c02bdafe017",
   "metadata": {},
   "outputs": [
    {
     "data": {
      "text/plain": [
       "array([[0, 0, 3, 5, 9, 0, 0, 0, 0],\n",
       "       [0, 0, 0, 0, 0, 0, 0, 0, 0],\n",
       "       [4, 0, 6, 0, 0, 0, 0, 2, 0],\n",
       "       [0, 0, 0, 0, 0, 0, 4, 5, 0],\n",
       "       [6, 0, 8, 0, 5, 0, 0, 4, 9],\n",
       "       [3, 0, 5, 0, 2, 8, 9, 0, 6],\n",
       "       [8, 0, 0, 3, 0, 4, 0, 0, 2],\n",
       "       [5, 0, 7, 9, 0, 0, 2, 0, 0],\n",
       "       [9, 0, 2, 4, 8, 0, 0, 0, 0]])"
      ]
     },
     "execution_count": 7,
     "metadata": {},
     "output_type": "execute_result"
    }
   ],
   "source": [
    "def generate_sudoku(n=9, r=10, d=50):\n",
    "    # Гененрируем заполненную матрицу\n",
    "    base = np.arange(1, n+1)\n",
    "    sudoku = np.zeros((n, n), dtype=int)\n",
    "    for i in range(n):\n",
    "        sudoku[i] = np.roll(base, i)\n",
    "    # Случайно тасуем строки, столбцы и транспонируем\n",
    "    for i in range(r):\n",
    "        s = np.random.randint(0, 2)\n",
    "        if s == 0:\n",
    "            sudoku = transpose(sudoku)\n",
    "        elif s == 1:\n",
    "            sudoku = swap_row(sudoku, np.random.randint(0, 9), np.random.randint(0, 9))\n",
    "        elif s == 2:\n",
    "            sudoku = swap_col(sudoku, np.random.randint(0, 9), np.random.randint(0, 9))\n",
    "    # Удаляем некоторые числа\n",
    "    for i in np.random.permutation(81)[:50]:\n",
    "        sudoku[i % 9][i // 9] = 0\n",
    "        \n",
    "    return sudoku\n",
    "\n",
    "sudoku = generate_sudoku()\n",
    "sudoku"
   ]
  },
  {
   "cell_type": "code",
   "execution_count": 8,
   "id": "07e8006a-0129-4ecc-bc27-061a86b9303a",
   "metadata": {},
   "outputs": [
    {
     "data": {
      "text/plain": [
       "array([[0, 2, 0, 0, 5, 0, 0, 0, 0],\n",
       "       [5, 0, 3, 6, 0, 0, 0, 1, 0],\n",
       "       [9, 8, 7, 1, 2, 3, 0, 0, 0],\n",
       "       [1, 9, 0, 0, 0, 4, 0, 0, 0],\n",
       "       [0, 0, 0, 0, 1, 2, 0, 0, 0],\n",
       "       [7, 6, 0, 0, 9, 0, 0, 0, 0],\n",
       "       [0, 0, 9, 0, 4, 0, 6, 0, 0],\n",
       "       [0, 3, 2, 5, 0, 7, 8, 0, 0],\n",
       "       [6, 0, 0, 0, 0, 0, 0, 2, 3]])"
      ]
     },
     "execution_count": 8,
     "metadata": {},
     "output_type": "execute_result"
    }
   ],
   "source": [
    "while not validate_sudoku(sudoku):\n",
    "    sudoku = generate_sudoku()\n",
    "sudoku"
   ]
  },
  {
   "cell_type": "markdown",
   "id": "8ffb0f67-ee0b-4e20-988f-498cfe2ccdb8",
   "metadata": {},
   "source": [
    "Теперь судоку генерируется быстрее"
   ]
  },
  {
   "cell_type": "markdown",
   "id": "ea9ec258-43d3-4c57-9de7-6d390d2a981c",
   "metadata": {},
   "source": [
    "Теперь нужно будет написать солвер для судоку. Для того, чтобы проверить его работу ты можешь воспользоваться [API](https://www.youdosudoku.com/)"
   ]
  },
  {
   "cell_type": "code",
   "execution_count": 9,
   "id": "d899cf0a-87be-4388-a9c9-323f26fc1494",
   "metadata": {},
   "outputs": [
    {
     "data": {
      "text/plain": [
       "{'difficulty': 'easy',\n",
       " 'puzzle': '000002006798006000020489050306194080084603970010758300009060400000035700000200639',\n",
       " 'solution': '145372896798516243623489157376194582584623971912758364239867415461935728857241639'}"
      ]
     },
     "execution_count": 9,
     "metadata": {},
     "output_type": "execute_result"
    }
   ],
   "source": [
    "sudoku = requests.get('https://www.youdosudoku.com/api').json()\n",
    "sudoku"
   ]
  },
  {
   "cell_type": "code",
   "execution_count": 10,
   "id": "518d1ca3-b178-408d-bc16-e45e3e4ef156",
   "metadata": {},
   "outputs": [
    {
     "data": {
      "text/plain": [
       "array([[0, 0, 0, 0, 0, 2, 0, 0, 6],\n",
       "       [7, 9, 8, 0, 0, 6, 0, 0, 0],\n",
       "       [0, 2, 0, 4, 8, 9, 0, 5, 0],\n",
       "       [3, 0, 6, 1, 9, 4, 0, 8, 0],\n",
       "       [0, 8, 4, 6, 0, 3, 9, 7, 0],\n",
       "       [0, 1, 0, 7, 5, 8, 3, 0, 0],\n",
       "       [0, 0, 9, 0, 6, 0, 4, 0, 0],\n",
       "       [0, 0, 0, 0, 3, 5, 7, 0, 0],\n",
       "       [0, 0, 0, 2, 0, 0, 6, 3, 9]])"
      ]
     },
     "execution_count": 10,
     "metadata": {},
     "output_type": "execute_result"
    }
   ],
   "source": [
    "not_puzzled = [int(i) for i in sudoku['puzzle']]\n",
    "not_puzzled = np.array(not_puzzled).reshape((9, 9))\n",
    "not_puzzled"
   ]
  },
  {
   "cell_type": "code",
   "execution_count": 11,
   "id": "97b1289f-4926-4c02-bbf5-1fed3fc8d672",
   "metadata": {},
   "outputs": [
    {
     "data": {
      "text/plain": [
       "array([[1, 4, 5, 3, 7, 2, 8, 9, 6],\n",
       "       [7, 9, 8, 5, 1, 6, 2, 4, 3],\n",
       "       [6, 2, 3, 4, 8, 9, 1, 5, 7],\n",
       "       [3, 7, 6, 1, 9, 4, 5, 8, 2],\n",
       "       [5, 8, 4, 6, 2, 3, 9, 7, 1],\n",
       "       [9, 1, 2, 7, 5, 8, 3, 6, 4],\n",
       "       [2, 3, 9, 8, 6, 7, 4, 1, 5],\n",
       "       [4, 6, 1, 9, 3, 5, 7, 2, 8],\n",
       "       [8, 5, 7, 2, 4, 1, 6, 3, 9]])"
      ]
     },
     "execution_count": 11,
     "metadata": {},
     "output_type": "execute_result"
    }
   ],
   "source": [
    "solution = [int(i) for i in sudoku['solution']]\n",
    "solution = np.array(solution).reshape((9, 9))\n",
    "solution"
   ]
  },
  {
   "cell_type": "code",
   "execution_count": 12,
   "id": "189aa15c-0cf7-4093-a6b8-1183dade44fd",
   "metadata": {},
   "outputs": [
    {
     "data": {
      "text/plain": [
       "True"
      ]
     },
     "execution_count": 12,
     "metadata": {},
     "output_type": "execute_result"
    }
   ],
   "source": [
    "validate_sudoku(not_puzzled)"
   ]
  },
  {
   "cell_type": "markdown",
   "id": "6a39d658-84b3-4641-b3db-69117ffe332e",
   "metadata": {},
   "source": [
    "## Солвер"
   ]
  },
  {
   "cell_type": "code",
   "execution_count": 13,
   "id": "75c99acf-cac4-4e60-acb9-98a097602568",
   "metadata": {},
   "outputs": [],
   "source": [
    "def check_win(sudoku):\n",
    "    if validate_sudoku(sudoku):\n",
    "        values, counts = np.unique(sudoku, return_counts=True)\n",
    "        if np.all(values != 0) and np.all(counts == 9):\n",
    "            return True\n",
    "    return False"
   ]
  },
  {
   "cell_type": "code",
   "execution_count": 14,
   "id": "5e209ae2-b55c-4a07-8c89-8bf8f4c32b73",
   "metadata": {},
   "outputs": [],
   "source": [
    "def solver_sudoku(sudoku):\n",
    "    for row in range(9):\n",
    "        for col in range(9):\n",
    "            if sudoku[row][col] == 0:\n",
    "                for n in range(1, 10):\n",
    "                    sudoku[row][col] = n\n",
    "                    if validate_sudoku(sudoku):\n",
    "                        if solver_sudoku(sudoku):\n",
    "                            return True\n",
    "                    sudoku[row][col] = 0\n",
    "                return False\n",
    "    return True"
   ]
  },
  {
   "cell_type": "code",
   "execution_count": 15,
   "id": "f18373b1-39c9-4bf5-808c-607592335096",
   "metadata": {},
   "outputs": [
    {
     "data": {
      "text/plain": [
       "array([[1, 4, 5, 3, 7, 2, 8, 9, 6],\n",
       "       [7, 9, 8, 5, 1, 6, 2, 4, 3],\n",
       "       [6, 2, 3, 4, 8, 9, 1, 5, 7],\n",
       "       [3, 7, 6, 1, 9, 4, 5, 8, 2],\n",
       "       [5, 8, 4, 6, 2, 3, 9, 7, 1],\n",
       "       [9, 1, 2, 7, 5, 8, 3, 6, 4],\n",
       "       [2, 3, 9, 8, 6, 7, 4, 1, 5],\n",
       "       [4, 6, 1, 9, 3, 5, 7, 2, 8],\n",
       "       [8, 5, 7, 2, 4, 1, 6, 3, 9]])"
      ]
     },
     "execution_count": 15,
     "metadata": {},
     "output_type": "execute_result"
    }
   ],
   "source": [
    "solve = not_puzzled.copy()\n",
    "solver_sudoku(solve)\n",
    "solve"
   ]
  },
  {
   "cell_type": "markdown",
   "id": "a118b1b3-2d0c-4968-bc72-4b258c703f09",
   "metadata": {},
   "source": [
    "## Тесты"
   ]
  },
  {
   "cell_type": "markdown",
   "id": "8e1ac9aa-6dec-475f-ba8d-a619f0871d39",
   "metadata": {},
   "source": [
    "Теперь напиши тесты для солвера. Для сравнения матриц с ответом, можешь воспользоваться [assert](https://numpy.org/doc/2.0/reference/generated/numpy.testing.assert_array_equal.html#numpy.testing.assert_array_equal)"
   ]
  },
  {
   "cell_type": "code",
   "execution_count": 16,
   "id": "a3c8981d-72be-4721-851c-0a6d25b6c5ac",
   "metadata": {},
   "outputs": [
    {
     "name": "stdout",
     "output_type": "stream",
     "text": [
      "\u001b[32m.\u001b[0m\u001b[32m.\u001b[0m\u001b[32m.\u001b[0m\u001b[32m                                                                                          [100%]\u001b[0m\n"
     ]
    }
   ],
   "source": [
    "%%ipytest -qq\n",
    "\n",
    "\n",
    "def test_solve_sudoku():\n",
    "    input_board = np.array([\n",
    "        [5, 3, 0, 0, 7, 0, 0, 0, 0],\n",
    "        [6, 0, 0, 1, 9, 5, 0, 0, 0],\n",
    "        [0, 9, 8, 0, 0, 0, 0, 6, 0],\n",
    "        [8, 0, 0, 0, 6, 0, 0, 0, 3],\n",
    "        [4, 0, 0, 8, 0, 3, 0, 0, 1],\n",
    "        [7, 0, 0, 0, 2, 0, 0, 0, 6],\n",
    "        [0, 6, 0, 0, 0, 0, 2, 8, 0],\n",
    "        [0, 0, 0, 4, 1, 9, 0, 0, 5],\n",
    "        [0, 0, 0, 0, 8, 0, 0, 7, 9]\n",
    "    ])\n",
    "    \n",
    "    expected_solution = np.array([\n",
    "        [5, 3, 4, 6, 7, 8, 9, 1, 2],\n",
    "        [6, 7, 2, 1, 9, 5, 3, 4, 8],\n",
    "        [1, 9, 8, 3, 4, 2, 5, 6, 7],\n",
    "        [8, 5, 9, 7, 6, 1, 4, 2, 3],\n",
    "        [4, 2, 6, 8, 5, 3, 7, 9, 1],\n",
    "        [7, 1, 3, 9, 2, 4, 8, 5, 6],\n",
    "        [9, 6, 1, 5, 3, 7, 2, 8, 4],\n",
    "        [2, 8, 7, 4, 1, 9, 6, 3, 5],\n",
    "        [3, 4, 5, 2, 8, 6, 1, 7, 9]\n",
    "    ])\n",
    "\n",
    "    solved_board = input_board.copy()\n",
    "    solver_sudoku(solved_board)\n",
    "    np.testing.assert_array_equal(solved_board, expected_solution)\n",
    "\n",
    "\n",
    "def test_solve_already_solved():\n",
    "    input_board = np.array([\n",
    "        [5, 3, 4, 6, 7, 8, 9, 1, 2],\n",
    "        [6, 7, 2, 1, 9, 5, 3, 4, 8],\n",
    "        [1, 9, 8, 3, 4, 2, 5, 6, 7],\n",
    "        [8, 5, 9, 7, 6, 1, 4, 2, 3],\n",
    "        [4, 2, 6, 8, 5, 3, 7, 9, 1],\n",
    "        [7, 1, 3, 9, 2, 4, 8, 5, 6],\n",
    "        [9, 6, 1, 5, 3, 7, 2, 8, 4],\n",
    "        [2, 8, 7, 4, 1, 9, 6, 3, 5],\n",
    "        [3, 4, 5, 2, 8, 6, 1, 7, 9]\n",
    "    ])\n",
    "\n",
    "    solved_board = input_board.copy()\n",
    "    solver_sudoku(solved_board)\n",
    "    np.testing.assert_array_equal(solved_board, input_board)\n",
    "\n",
    "\n",
    "def test_unsolvable_board():\n",
    "    input_board = np.array([\n",
    "        [5, 5, 0, 0, 7, 0, 0, 0, 0],  # Две 5 в первой строке\n",
    "        [6, 0, 0, 1, 9, 5, 0, 0, 0],\n",
    "        [0, 9, 8, 0, 0, 0, 0, 6, 0],\n",
    "        [8, 0, 0, 0, 6, 0, 0, 0, 3],\n",
    "        [4, 0, 0, 8, 0, 3, 0, 0, 1],\n",
    "        [7, 0, 0, 0, 2, 0, 0, 0, 6],\n",
    "        [0, 6, 0, 0, 0, 0, 2, 8, 0],\n",
    "        [0, 0, 0, 4, 1, 9, 0, 0, 5],\n",
    "        [0, 0, 0, 0, 8, 0, 0, 7, 9]\n",
    "    ])\n",
    "    \n",
    "    assert solver_sudoku(input_board) is False"
   ]
  },
  {
   "cell_type": "code",
   "execution_count": null,
   "id": "6a99297a-0881-4901-ab4d-96f0709d5d53",
   "metadata": {},
   "outputs": [],
   "source": []
  }
 ],
 "metadata": {
  "kernelspec": {
   "display_name": "Python 3 (ipykernel)",
   "language": "python",
   "name": "python3"
  },
  "language_info": {
   "codemirror_mode": {
    "name": "ipython",
    "version": 3
   },
   "file_extension": ".py",
   "mimetype": "text/x-python",
   "name": "python",
   "nbconvert_exporter": "python",
   "pygments_lexer": "ipython3",
   "version": "3.13.2"
  }
 },
 "nbformat": 4,
 "nbformat_minor": 5
}
