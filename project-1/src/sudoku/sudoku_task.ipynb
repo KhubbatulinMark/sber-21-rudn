{
 "cells": [
  {
   "cell_type": "code",
   "execution_count": 1,
   "id": "c58b84bc-11ea-4822-bc27-050fa4b0eb11",
   "metadata": {},
   "outputs": [],
   "source": [
    "import numpy as np\n",
    "import requests\n",
    "import pytest\n",
    "import tqdm\n",
    "import ipytest"
   ]
  },
  {
   "cell_type": "markdown",
   "id": "554e2ede-3532-40c3-b6aa-f0b74ecab7d6",
   "metadata": {},
   "source": [
    "# 4) Доп. задание. Судоку"
   ]
  },
  {
   "cell_type": "markdown",
   "id": "032041ee-7dc5-43cb-bd19-5c6649c307b2",
   "metadata": {},
   "source": [
    "В данном задании нужно будет реализовать солвер судоку, поработать с API и написать тесты"
   ]
  },
  {
   "cell_type": "markdown",
   "id": "9aa92f88-d3a5-4bcc-83cb-63d3b396d5a6",
   "metadata": {},
   "source": [
    "## Валидатор"
   ]
  },
  {
   "cell_type": "markdown",
   "id": "56ff1f51-ddbf-430e-8eda-423a3d9b6282",
   "metadata": {},
   "source": [
    "Для начала научимся создавать матрицы 9x9 в numpy. Тебе в этом поможет модуль:\n",
    "[numpy.random](https://numpy.org/doc/2.0/reference/random/generated/numpy.random.randint.html)"
   ]
  },
  {
   "cell_type": "code",
   "execution_count": 5,
   "id": "f18010ff-d0c0-480a-8250-447a394aee65",
   "metadata": {},
   "outputs": [],
   "source": [
    "# Код тут"
   ]
  },
  {
   "cell_type": "markdown",
   "id": "7dab8dda-b117-4f7c-af06-4d4f193371f2",
   "metadata": {},
   "source": [
    "Теперь нужно проверить, что это матрица является [судоку](https://ru.wikipedia.org/wiki/%D0%A1%D1%83%D0%B4%D0%BE%D0%BA%D1%83)"
   ]
  },
  {
   "cell_type": "code",
   "execution_count": 3,
   "id": "b36b9100-2f98-41cd-b3a5-e1e1fc9f90bc",
   "metadata": {},
   "outputs": [],
   "source": [
    "def validate_sudoku(sudoku):\n",
    "    pass"
   ]
  },
  {
   "cell_type": "markdown",
   "id": "231597d8-956c-4838-8cae-cc0041e73170",
   "metadata": {},
   "source": [
    "Попробуй сгенерировать таким способом матрицу судоку"
   ]
  },
  {
   "cell_type": "code",
   "execution_count": 6,
   "id": "5a62969f-a33e-4986-8042-d2b575436dcf",
   "metadata": {},
   "outputs": [],
   "source": [
    "# while not validate_sudoku(sudoku):\n",
    "    # sudoku = твой способ генерации матрицы\n",
    "# sudoku"
   ]
  },
  {
   "cell_type": "markdown",
   "id": "8499c9a5-c8dd-4a2b-b42b-c617dbc63167",
   "metadata": {},
   "source": [
    "## Генератор"
   ]
  },
  {
   "cell_type": "markdown",
   "id": "70ade0f7-f013-4c8b-9f20-f22a7c9dfba9",
   "metadata": {},
   "source": [
    "Понятно, что код выполняется очень долго. Напишем более оптимизированный генератор матриц судоку.\n",
    "\n",
    "1) Сгенерируй матрицу, заполненную числами от 1 до 9\n",
    "2) Напиши функции:\n",
    "  - Транспонирование матрицы\n",
    "  - Обмен строк\n",
    "  - Обмен столбцов\n",
    "3) Примени эти функции в случайном порядке на сгенерированную матрицу и удали случайные клетки из нее\n",
    "4) Проверь, является ли эта матрица судоку"
   ]
  },
  {
   "cell_type": "code",
   "execution_count": 8,
   "id": "92c7d59e-b854-4b13-be58-1c74b761b077",
   "metadata": {},
   "outputs": [],
   "source": [
    "def transpose(matrix):\n",
    "    pass\n",
    "\n",
    "def swap_row(matrix, row1, row2):\n",
    "    pass\n",
    "\n",
    "def swap_col(matrix, col1, col2):\n",
    "    pass"
   ]
  },
  {
   "cell_type": "code",
   "execution_count": 7,
   "id": "66d4b745-775e-45de-9974-3c02bdafe017",
   "metadata": {},
   "outputs": [],
   "source": [
    "def generate_sudoku(n=9, r=10, d=50):\n",
    "    pass\n",
    "\n",
    "sudoku = generate_sudoku()\n",
    "sudoku"
   ]
  },
  {
   "cell_type": "code",
   "execution_count": 9,
   "id": "07e8006a-0129-4ecc-bc27-061a86b9303a",
   "metadata": {},
   "outputs": [],
   "source": [
    "# while not validate_sudoku(sudoku):\n",
    "    # sudoku = твой способ генерации матрицы\n",
    "# sudoku"
   ]
  },
  {
   "cell_type": "markdown",
   "id": "4eb2b591-c145-4f73-bb57-1d786f69881b",
   "metadata": {},
   "source": [
    "## Солвер"
   ]
  },
  {
   "cell_type": "markdown",
   "id": "ea9ec258-43d3-4c57-9de7-6d390d2a981c",
   "metadata": {},
   "source": [
    "Теперь нужно будет написать солвер для судоку. Для того, чтобы проверить его работу ты можешь воспользоваться [API](https://www.youdosudoku.com/)"
   ]
  },
  {
   "cell_type": "code",
   "execution_count": 10,
   "id": "d899cf0a-87be-4388-a9c9-323f26fc1494",
   "metadata": {},
   "outputs": [],
   "source": [
    "# Код тут"
   ]
  },
  {
   "cell_type": "code",
   "execution_count": 11,
   "id": "5e209ae2-b55c-4a07-8c89-8bf8f4c32b73",
   "metadata": {},
   "outputs": [],
   "source": [
    "def solver_sudoku(sudoku):\n",
    "    pass"
   ]
  },
  {
   "cell_type": "markdown",
   "id": "a118b1b3-2d0c-4968-bc72-4b258c703f09",
   "metadata": {},
   "source": [
    "## Тесты"
   ]
  },
  {
   "cell_type": "markdown",
   "id": "8e1ac9aa-6dec-475f-ba8d-a619f0871d39",
   "metadata": {},
   "source": [
    "Теперь напиши тесты для солвера. Для сравнения матриц с ответом, можешь воспользоваться [assert](https://numpy.org/doc/2.0/reference/generated/numpy.testing.assert_array_equal.html#numpy.testing.assert_array_equal)"
   ]
  },
  {
   "cell_type": "code",
   "execution_count": 12,
   "id": "6a99297a-0881-4901-ab4d-96f0709d5d53",
   "metadata": {},
   "outputs": [],
   "source": [
    "# Код тут"
   ]
  }
 ],
 "metadata": {
  "kernelspec": {
   "display_name": "Python 3 (ipykernel)",
   "language": "python",
   "name": "python3"
  },
  "language_info": {
   "codemirror_mode": {
    "name": "ipython",
    "version": 3
   },
   "file_extension": ".py",
   "mimetype": "text/x-python",
   "name": "python",
   "nbconvert_exporter": "python",
   "pygments_lexer": "ipython3",
   "version": "3.13.2"
  }
 },
 "nbformat": 4,
 "nbformat_minor": 5
}
