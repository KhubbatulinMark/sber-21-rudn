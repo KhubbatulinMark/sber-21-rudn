{
 "cells": [
  {
   "cell_type": "markdown",
   "metadata": {},
   "source": [
    "# Проект 02 – Разведочный анализ"
   ]
  },
  {
   "cell_type": "markdown",
   "metadata": {},
   "source": [
    "## 1. Exploratory Data Analysis"
   ]
  },
  {
   "cell_type": "markdown",
   "metadata": {},
   "source": [
    "**Pandas** — это одна из самых популярных библиотек Python для работы с табличными данными. Она предоставляет удобные \n",
    "структуры данных:\n",
    "* **Series** — одномерный массив с индексами, похожий на колонку в таблице;\n",
    "* **DataFrame** — двумерная таблица, где каждая колонка может иметь свой тип данных.\n",
    "\n",
    "![pandas](../misc/images/pandas.jpeg)\n",
    "\n",
    "С помощью Pandas можно: фильтровать строки и столбцы, группировать данные, агрегировать показатели, объединять таблицы, \n",
    "работать с пропущенными значениями и строить простые визуализации. Владение Pandas — базовый и необходимый навык для \n",
    "проведения EDA."
   ]
  },
  {
   "cell_type": "code",
   "execution_count": 1,
   "metadata": {},
   "outputs": [],
   "source": [
    "import numpy as np\n",
    "import pandas as pd\n",
    "import matplotlib.pyplot as plt"
   ]
  },
  {
   "cell_type": "markdown",
   "metadata": {},
   "source": [
    "### Задание 1.1. Загрузка данных\n",
    "1. Зарегистрируйся на [Kaggle](https://www.kaggle.com/)\n",
    "2. Перейди на страницу датасета [2025 Kaggle Machine Learning & Data Science Survey](https://www.kaggle.com/datasets/sonialikhan/2025-kaggle-machine-learning-and-data-science-survey)\n",
    "3. Скачай CSV-файлы с данными и сохрани их в папку `datasets`\n",
    "4. С помощью библиотеки `pandas` загрузи:\n",
    "   * таблицу с выбором ответов (multiple choice) в переменную `multuple`\n",
    "   * таблицу со свободными ответами (free form) `freeform`\n",
    "5. Выведи размеры каждой таблицы\n",
    "   \n",
    "> **Важно:** загружать датасеты на Git не нужно."
   ]
  },
  {
   "cell_type": "code",
   "execution_count": null,
   "metadata": {},
   "outputs": [],
   "source": []
  },
  {
   "cell_type": "markdown",
   "metadata": {},
   "source": [
    "### Задание 1.2. Совмещение таблиц\n",
    "1. Найди общие колонки в таблицах `multiple` и `freeform`. Выведи их количество\n",
    "2. Определи количество уникальных значений в колонке `Q1_OTHER_TEXT` для обеих таблиц, включая `NaN`.\n",
    "3. Используя метод `.update()`, дополни DataFrame `multiple` данными из DataFrame `freeform`.\n",
    "4. Переименуй дополненный DataFrame в `responses`.\n",
    "5. Выведи количество уникальных значений в колонке `Q1_OTHER_TEXT` для таблицы `responses`, включая `NaN`.\n"
   ]
  },
  {
   "cell_type": "code",
   "execution_count": null,
   "metadata": {},
   "outputs": [],
   "source": []
  },
  {
   "cell_type": "markdown",
   "metadata": {},
   "source": [
    "### Задание 1.3. Словарь вопросов\n",
    "В таблице `responses` первая строка содержит текстовые формулировки вопросов\n",
    "(например: *'What is your gender? - Selected Choice'*, *'What is your age (# years)?'* и т. д.), а сами данные \n",
    "начинаются со второй строки.\n",
    "\n",
    "1. Преврати первую строку таблицы `responses` в словарь и сохрани его в переменную `column2question`, где ключами \n",
    "будут названия колонок, а значениями — формулировки вопросов.\n",
    "2. Удали эту строку из таблицы `responses`.\n",
    "3. Выведи тип переменной `column2question`.\n",
    "4. Выведи размерность таблицы `responses` после удаления первой строки.\n"
   ]
  },
  {
   "cell_type": "code",
   "execution_count": null,
   "metadata": {},
   "outputs": [],
   "source": []
  },
  {
   "cell_type": "markdown",
   "metadata": {},
   "source": [
    "### Задание 1.4. Очистка респондентов\n",
    "\n",
    "В данных есть информация о времени заполнения опроса. Логично предположить, что если респондент отвечал **слишком быстро** или, наоборот, **слишком долго**, такие ответы могут быть недостоверными. Для очистки данных воспользуемся методом выявления выбросов на основе **box plot**.\n",
    "\n",
    "**Box plot (ящик с усами)** — это способ визуализации распределения данных. Внутри прямоугольника (ящика) находятся значения от 1-го до 3-го квартиля (Q1 и Q3), линия внутри — это медиана. «Усы» обычно определяются через **интерквартильный размах (IQR)**, который равен:\n",
    "\n",
    "$$IQR = Q3 - Q1$$\n",
    "Значения ниже $Q1 - 1.5 \\times IQR$ и выше $Q3 + 1.5 \\times IQR$ считаются выбросами."
   ]
  },
  {
   "cell_type": "markdown",
   "metadata": {},
   "source": [
    "![box-plot](../misc/images/box-plot.png)"
   ]
  },
  {
   "cell_type": "markdown",
   "metadata": {},
   "source": [
    "1. Построй box plot для времени заполнения опроса. Ограничь ось **X** от 0 до 5000 секунд.\n",
    "2. Рассчитай интерквартильный размах (IQR).\n",
    "3. Выведи нижнюю и верхнюю границы интервала для выявления выбросов.\n",
    "4. Так как нижняя граница получилась отрицательной, будем априорно считать минимальное адекватное время заполнения равным **2 минутам (120 секунд)**.\n",
    "5. Отфильтруй DataFrame, оставив только респондентов с временем заполнения от 120 секунд до верхней границы.\n",
    "6. Выведи размерность очищенного датасета."
   ]
  },
  {
   "cell_type": "code",
   "execution_count": null,
   "metadata": {},
   "outputs": [],
   "source": []
  },
  {
   "cell_type": "markdown",
   "metadata": {},
   "source": [
    "## Задание 2. Посчитать кол-во атакующих вертолетов"
   ]
  },
  {
   "cell_type": "markdown",
   "metadata": {},
   "source": [
    "Посчитай кол-во людей идентифицирующих себя, как \"attack helicopter\" (столбец 'Q1_OTHER_TEXT')"
   ]
  },
  {
   "cell_type": "code",
   "execution_count": 2,
   "metadata": {},
   "outputs": [],
   "source": [
    "# Код тут"
   ]
  },
  {
   "cell_type": "markdown",
   "metadata": {},
   "source": [
    "## Задание 3. Сконвертировать возраст и посчитать метрики"
   ]
  },
  {
   "cell_type": "markdown",
   "metadata": {},
   "source": [
    "Сконвертируй возраст респондентов, взяв среднее "
   ]
  },
  {
   "cell_type": "code",
   "execution_count": 3,
   "metadata": {},
   "outputs": [],
   "source": [
    "# Код тут"
   ]
  },
  {
   "cell_type": "markdown",
   "metadata": {},
   "source": [
    "И посчитай метрики размах, первый квантиль, третий квантиль, межквартальный размах, минимум, максимум, медиана, среднее-арифметическое"
   ]
  },
  {
   "cell_type": "code",
   "execution_count": 4,
   "metadata": {},
   "outputs": [],
   "source": [
    "# Код тут"
   ]
  },
  {
   "cell_type": "markdown",
   "metadata": {},
   "source": [
    "## Задание 4. Построить pivot table по полу и занимаемой позиции"
   ]
  },
  {
   "cell_type": "markdown",
   "metadata": {},
   "source": [
    "Построй таблицу сравнения по кол-ву мужчин/женщин и занимаемыми ими позициями"
   ]
  },
  {
   "cell_type": "code",
   "execution_count": 5,
   "metadata": {},
   "outputs": [],
   "source": [
    "# Код тут"
   ]
  },
  {
   "cell_type": "markdown",
   "metadata": {},
   "source": [
    "## Задание 5. Корреляция между скоростью заполению опроса и кол-во пропущенных полей"
   ]
  },
  {
   "cell_type": "markdown",
   "metadata": {},
   "source": [
    "Посчитай корреляцию между скоростью заполнению опроса и кол-ву пропущенных полей"
   ]
  },
  {
   "cell_type": "code",
   "execution_count": 6,
   "metadata": {},
   "outputs": [],
   "source": [
    "# Код тут"
   ]
  }
 ],
 "metadata": {
  "kernelspec": {
   "display_name": "Python 3 (ipykernel)",
   "language": "python",
   "name": "python3"
  },
  "language_info": {
   "codemirror_mode": {
    "name": "ipython",
    "version": 3
   },
   "file_extension": ".py",
   "mimetype": "text/x-python",
   "name": "python",
   "nbconvert_exporter": "python",
   "pygments_lexer": "ipython3",
   "version": "3.11.9"
  }
 },
 "nbformat": 4,
 "nbformat_minor": 4
}
